{
 "cells": [
  {
   "cell_type": "markdown",
   "metadata": {},
   "source": [
    "### Proxy - Forneça um substituto ou espaço reservado para outro objeto para controlar o acesso a ele ou adicionar outras responsabilidades.\n",
    "\n",
    "### Mais informações:\n",
    "- https://sourcemaking.com/design_patterns/proxy\n",
    "- https://brizeno.wordpress.com/2011/10/01/mao-na-massa-proxy/"
   ]
  },
  {
   "cell_type": "code",
   "execution_count": 1,
   "metadata": {},
   "outputs": [],
   "source": [
    "import abc"
   ]
  },
  {
   "cell_type": "code",
   "execution_count": 2,
   "metadata": {},
   "outputs": [],
   "source": [
    "# Subject - Abstract object - Communicate with client\n",
    "class Image(metaclass=abc.ABCMeta):\n",
    "    @abc.abstractmethod\n",
    "    def display(self):\n",
    "        pass"
   ]
  },
  {
   "cell_type": "code",
   "execution_count": 3,
   "metadata": {},
   "outputs": [],
   "source": [
    "# Real Subject - Concrete object\n",
    "class RealImage(Image):\n",
    "    def __init__(self, filename):\n",
    "        self._filename = filename\n",
    "        self.loadFromDisk()\n",
    "        \n",
    "    def display(self):\n",
    "        print('Displaying {}'.format(self._filename))\n",
    "        \n",
    "    def loadFromDisk(self):\n",
    "        print('... Loading {}'.format(self._filename))"
   ]
  },
  {
   "cell_type": "code",
   "execution_count": 4,
   "metadata": {},
   "outputs": [],
   "source": [
    "# Proxy\n",
    "class ProxyImage(Image):\n",
    "    def __init__(self, filename):\n",
    "        self._filename = filename\n",
    "        self._real_image = None\n",
    "\n",
    "    def display(self):\n",
    "        if self._real_image == None:\n",
    "            self._real_image = RealImage(self._filename)\n",
    "        self._real_image.display()"
   ]
  },
  {
   "cell_type": "code",
   "execution_count": 5,
   "metadata": {},
   "outputs": [
    {
     "name": "stdout",
     "output_type": "stream",
     "text": [
      "... Loading image1.png\n",
      "Displaying image1.png\n",
      "Displaying image1.png\n",
      "... Loading image2.png\n",
      "Displaying image2.png\n",
      "Displaying image2.png\n",
      "Displaying image2.png\n"
     ]
    }
   ],
   "source": [
    "# Using Proxy Pattern for Image\n",
    "# Obs.: Note that it only needs to be loaded once\n",
    "\n",
    "proxy_image1 = ProxyImage('image1.png')\n",
    "proxy_image1.display()\n",
    "proxy_image1.display()\n",
    "\n",
    "proxy_image2 = ProxyImage('image2.png')\n",
    "proxy_image2.display()\n",
    "proxy_image2.display()\n",
    "proxy_image2.display()"
   ]
  }
 ],
 "metadata": {
  "kernelspec": {
   "display_name": "Python 3",
   "language": "python",
   "name": "python3"
  },
  "language_info": {
   "codemirror_mode": {
    "name": "ipython",
    "version": 3
   },
   "file_extension": ".py",
   "mimetype": "text/x-python",
   "name": "python",
   "nbconvert_exporter": "python",
   "pygments_lexer": "ipython3",
   "version": "3.5.2"
  }
 },
 "nbformat": 4,
 "nbformat_minor": 2
}
