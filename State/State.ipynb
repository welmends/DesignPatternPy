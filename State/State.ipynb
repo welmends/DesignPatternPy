{
 "cells": [
  {
   "cell_type": "markdown",
   "metadata": {},
   "source": [
    "### State - Permita que um objeto altere seu comportamento quando seu estado interno for alterado. O objeto parecerá mudar sua classe.\n",
    "\n",
    "### Mais Informações:\n",
    "- https://sourcemaking.com/design_patterns/state\n",
    "- https://brizeno.wordpress.com/2011/11/21/mao-na-massa-state/"
   ]
  },
  {
   "cell_type": "code",
   "execution_count": 1,
   "metadata": {},
   "outputs": [],
   "source": [
    "import abc"
   ]
  },
  {
   "cell_type": "code",
   "execution_count": 2,
   "metadata": {},
   "outputs": [],
   "source": [
    "# Context to use the State\n",
    "class AlertStateContext:\n",
    "    def __init__(self, state=None):\n",
    "        self._state = state\n",
    "\n",
    "    def set_state(self, state):\n",
    "        self._state = state\n",
    "        \n",
    "    def request(self):\n",
    "        if self._state == None:\n",
    "            self._state = NormalState()\n",
    "        self._state.handle()"
   ]
  },
  {
   "cell_type": "code",
   "execution_count": 3,
   "metadata": {},
   "outputs": [],
   "source": [
    "# State Interface - Common to all supported states\n",
    "class State(metaclass=abc.ABCMeta):\n",
    "    @abc.abstractmethod\n",
    "    def handle(self):\n",
    "        pass"
   ]
  },
  {
   "cell_type": "code",
   "execution_count": 4,
   "metadata": {},
   "outputs": [],
   "source": [
    "# State 01 - Normal\n",
    "class NormalState(State):\n",
    "    def handle(self):\n",
    "        print('> Normal State Selected')\n",
    "\n",
    "# State 02 - Vibration\n",
    "class VibrationState(State):\n",
    "    def handle(self):\n",
    "        print('> Vibration State Selected')\n",
    "\n",
    "# State 03 - Silent\n",
    "class SilentState(State):\n",
    "    def handle(self):\n",
    "        print('> Silent State Selected')"
   ]
  },
  {
   "cell_type": "code",
   "execution_count": 5,
   "metadata": {},
   "outputs": [
    {
     "name": "stdout",
     "output_type": "stream",
     "text": [
      "> Normal State Selected\n",
      "> Vibration State Selected\n",
      "> Silent State Selected\n",
      "> Normal State Selected\n"
     ]
    }
   ],
   "source": [
    "# Instantiate States\n",
    "normal = NormalState()\n",
    "vibration = VibrationState()\n",
    "silent = SilentState()\n",
    "\n",
    "# Instantiate alert state context\n",
    "alert_state = AlertStateContext()\n",
    "alert_state.request()\n",
    "\n",
    "# Set other state\n",
    "alert_state.set_state(vibration)\n",
    "alert_state.request()\n",
    "\n",
    "# Set other state\n",
    "alert_state.set_state(silent)\n",
    "alert_state.request()\n",
    "\n",
    "# Set default state\n",
    "alert_state.set_state(None)\n",
    "alert_state.request()"
   ]
  }
 ],
 "metadata": {
  "kernelspec": {
   "display_name": "Python 3",
   "language": "python",
   "name": "python3"
  },
  "language_info": {
   "codemirror_mode": {
    "name": "ipython",
    "version": 3
   },
   "file_extension": ".py",
   "mimetype": "text/x-python",
   "name": "python",
   "nbconvert_exporter": "python",
   "pygments_lexer": "ipython3",
   "version": "3.5.2"
  }
 },
 "nbformat": 4,
 "nbformat_minor": 2
}
