{
 "cells": [
  {
   "cell_type": "markdown",
   "metadata": {},
   "source": [
    "### Singleton - Uma classe da qual apenas uma única instância pode existir\n",
    "\n",
    "### Mais informações\n",
    "- https://www.opus-software.com.br/singleton-design-pattern/\n",
    "- https://stackoverflow.com/questions/6760685/creating-a-singleton-in-python\n",
    "                     "
   ]
  },
  {
   "cell_type": "code",
   "execution_count": 1,
   "metadata": {},
   "outputs": [],
   "source": [
    "class Singleton(object):\n",
    "    _instance = None\n",
    "    def __new__(self, *args, **kwargs):\n",
    "        if not isinstance(self._instance, self):\n",
    "            self._instance = object.__new__(self)\n",
    "        return self._instance"
   ]
  },
  {
   "cell_type": "code",
   "execution_count": 2,
   "metadata": {},
   "outputs": [],
   "source": [
    "class Car(Singleton):\n",
    "    def __init__(self, brand = None):\n",
    "        self.brand = brand\n",
    "    \n",
    "    def __repr__(self):\n",
    "        if self.brand is not None:\n",
    "            return 'Memory Address: {} {}'.format(hex(id(self)), \"Brand: \" + self.brand)\n",
    "        else:\n",
    "            return 'Memory Address: {} {}'.format(hex(id(self)), \"Brand: None\")"
   ]
  },
  {
   "cell_type": "code",
   "execution_count": 3,
   "metadata": {},
   "outputs": [
    {
     "name": "stdout",
     "output_type": "stream",
     "text": [
      "Memory Address: 0x7f86f81ee208 Brand: Toyota\n",
      "Memory Address: 0x7f86f81ee208 Brand: Toyota\n"
     ]
    }
   ],
   "source": [
    "car_1 = Car('Fiat')\n",
    "car_2 = Car('Toyota')\n",
    "\n",
    "print(car_1)\n",
    "print(car_2)"
   ]
  },
  {
   "cell_type": "code",
   "execution_count": 4,
   "metadata": {},
   "outputs": [],
   "source": [
    "class ConfigSysAttr(Singleton):\n",
    "    def __init__(self):\n",
    "        self.attr1 = 'attr1_conf'\n",
    "        self.attr2 = 'attr2_conf'\n",
    "        self.attr3 = 'attr3_conf'\n",
    "    \n",
    "    def __repr__(self):\n",
    "        return 'Memory Address: {} {}'.format(hex(id(self)), 'Infos: [' + self.attr1 + ', ' + self.attr2 + ', ' + self.attr3 + ']')"
   ]
  },
  {
   "cell_type": "code",
   "execution_count": 5,
   "metadata": {},
   "outputs": [
    {
     "name": "stdout",
     "output_type": "stream",
     "text": [
      "Memory Address: 0x7f86f81ee4a8 Infos: [attr1_conf, attr2_conf, attr3_conf]\n",
      "Memory Address: 0x7f86f81ee4a8 Infos: [attr1_conf, attr2_conf, attr3_conf]\n"
     ]
    }
   ],
   "source": [
    "conf_1 = ConfigSysAttr()\n",
    "conf_2 = ConfigSysAttr()\n",
    "\n",
    "print(conf_1)\n",
    "print(conf_2)"
   ]
  }
 ],
 "metadata": {
  "kernelspec": {
   "display_name": "Python 3",
   "language": "python",
   "name": "python3"
  },
  "language_info": {
   "codemirror_mode": {
    "name": "ipython",
    "version": 3
   },
   "file_extension": ".py",
   "mimetype": "text/x-python",
   "name": "python",
   "nbconvert_exporter": "python",
   "pygments_lexer": "ipython3",
   "version": "3.5.2"
  }
 },
 "nbformat": 4,
 "nbformat_minor": 2
}
