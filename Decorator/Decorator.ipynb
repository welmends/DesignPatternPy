{
 "cells": [
  {
   "cell_type": "markdown",
   "metadata": {},
   "source": [
    "### Decorator - Agregar responsabilidades adicionais a um objeto dinamicamente. Os decoradores fornecem uma alternativa flexível à subclasse para ampliar a funcionalidade.\n",
    "\n",
    "### Mais Informações:\n",
    "- https://sourcemaking.com/design_patterns/decorator\n",
    "- https://brizeno.wordpress.com/2011/08/31/decorator/"
   ]
  },
  {
   "cell_type": "code",
   "execution_count": 1,
   "metadata": {},
   "outputs": [],
   "source": [
    "import abc"
   ]
  },
  {
   "cell_type": "code",
   "execution_count": 2,
   "metadata": {},
   "outputs": [],
   "source": [
    "# Cocktail Component\n",
    "class Cocktail(metaclass=abc.ABCMeta):        \n",
    "    @abc.abstractmethod\n",
    "    def operation(self):\n",
    "        pass"
   ]
  },
  {
   "cell_type": "code",
   "execution_count": 3,
   "metadata": {},
   "outputs": [],
   "source": [
    "# Cocktail Decorator\n",
    "class CocktailDecorator(Cocktail, metaclass=abc.ABCMeta):\n",
    "    def __init__(self, cocktail):\n",
    "        self._cocktail = cocktail\n",
    "        self.composition = ''\n",
    "        \n",
    "    @abc.abstractmethod\n",
    "    def operation(self):\n",
    "        pass"
   ]
  },
  {
   "cell_type": "code",
   "execution_count": 4,
   "metadata": {},
   "outputs": [],
   "source": [
    "# Some Cocktails\n",
    "class Rum(Cocktail):\n",
    "    def operation(self):\n",
    "        print('Cocktail: Rum ' + self._cocktail.composition)\n",
    "    \n",
    "class Vodka(Cocktail):\n",
    "    def __init__(self):\n",
    "        self._cocktail.composition += 'Vodka'\n",
    "        \n",
    "    def operation(self):\n",
    "        pass\n",
    "    \n",
    "class Tequila(Cocktail):\n",
    "    def __init__(self):\n",
    "        self._cocktail.composition += 'Tequila'\n",
    "        \n",
    "    def operation(self):\n",
    "        pass"
   ]
  },
  {
   "cell_type": "code",
   "execution_count": 5,
   "metadata": {},
   "outputs": [],
   "source": [
    "# Some Additionals (Decorators)\n",
    "class Lemon(CocktailDecorator):\n",
    "    def __init__(self, cocktail):\n",
    "        super(Lemon, self).__init__(cocktail)\n",
    "        self._cocktail.composition += '+ Lemon'\n",
    "        \n",
    "    def operation(self):\n",
    "        self._cocktail.operation()\n",
    "        \n",
    "class Soda(CocktailDecorator):\n",
    "    def __init__(self, cocktail):\n",
    "        super(Soda, self).__init__(cocktail)\n",
    "        self.composition += '+ Soda'\n",
    "        \n",
    "    def operation(self):\n",
    "        self._cocktail.operation()\n",
    "        \n",
    "class Sugar(CocktailDecorator):\n",
    "    def operation(self):\n",
    "        self._cocktail.operation()\n",
    "        \n",
    "class Juice(CocktailDecorator):\n",
    "    def operation(self):\n",
    "        self._cocktail.operation()\n",
    "        \n",
    "class Ice(CocktailDecorator):\n",
    "    def operation(self):\n",
    "        self._cocktail.operation()"
   ]
  },
  {
   "cell_type": "code",
   "execution_count": 6,
   "metadata": {},
   "outputs": [
    {
     "ename": "AttributeError",
     "evalue": "'Rum' object has no attribute 'composition'",
     "output_type": "error",
     "traceback": [
      "\u001b[0;31m---------------------------------------------------------------------------\u001b[0m",
      "\u001b[0;31mAttributeError\u001b[0m                            Traceback (most recent call last)",
      "\u001b[0;32m<ipython-input-6-1dd4d5befb11>\u001b[0m in \u001b[0;36m<module>\u001b[0;34m\u001b[0m\n\u001b[1;32m      1\u001b[0m \u001b[0mcocktail\u001b[0m \u001b[0;34m=\u001b[0m \u001b[0mRum\u001b[0m\u001b[0;34m(\u001b[0m\u001b[0;34m)\u001b[0m\u001b[0;34m\u001b[0m\u001b[0m\n\u001b[0;32m----> 2\u001b[0;31m \u001b[0mcocktail\u001b[0m \u001b[0;34m=\u001b[0m \u001b[0mLemon\u001b[0m\u001b[0;34m(\u001b[0m\u001b[0mcocktail\u001b[0m\u001b[0;34m)\u001b[0m\u001b[0;34m\u001b[0m\u001b[0m\n\u001b[0m\u001b[1;32m      3\u001b[0m \u001b[0;31m#cocktail = Soda(cocktail)\u001b[0m\u001b[0;34m\u001b[0m\u001b[0;34m\u001b[0m\u001b[0m\n\u001b[1;32m      4\u001b[0m \u001b[0mprint\u001b[0m\u001b[0;34m(\u001b[0m\u001b[0mcocktail\u001b[0m\u001b[0;34m.\u001b[0m\u001b[0moperation\u001b[0m\u001b[0;34m(\u001b[0m\u001b[0;34m)\u001b[0m\u001b[0;34m)\u001b[0m\u001b[0;34m\u001b[0m\u001b[0m\n",
      "\u001b[0;32m<ipython-input-5-06096172ba72>\u001b[0m in \u001b[0;36m__init__\u001b[0;34m(self, cocktail)\u001b[0m\n\u001b[1;32m      3\u001b[0m     \u001b[0;32mdef\u001b[0m \u001b[0m__init__\u001b[0m\u001b[0;34m(\u001b[0m\u001b[0mself\u001b[0m\u001b[0;34m,\u001b[0m \u001b[0mcocktail\u001b[0m\u001b[0;34m)\u001b[0m\u001b[0;34m:\u001b[0m\u001b[0;34m\u001b[0m\u001b[0m\n\u001b[1;32m      4\u001b[0m         \u001b[0msuper\u001b[0m\u001b[0;34m(\u001b[0m\u001b[0mLemon\u001b[0m\u001b[0;34m,\u001b[0m \u001b[0mself\u001b[0m\u001b[0;34m)\u001b[0m\u001b[0;34m.\u001b[0m\u001b[0m__init__\u001b[0m\u001b[0;34m(\u001b[0m\u001b[0mcocktail\u001b[0m\u001b[0;34m)\u001b[0m\u001b[0;34m\u001b[0m\u001b[0m\n\u001b[0;32m----> 5\u001b[0;31m         \u001b[0mself\u001b[0m\u001b[0;34m.\u001b[0m\u001b[0m_cocktail\u001b[0m\u001b[0;34m.\u001b[0m\u001b[0mcomposition\u001b[0m \u001b[0;34m+=\u001b[0m \u001b[0;34m'+ Lemon'\u001b[0m\u001b[0;34m\u001b[0m\u001b[0m\n\u001b[0m\u001b[1;32m      6\u001b[0m \u001b[0;34m\u001b[0m\u001b[0m\n\u001b[1;32m      7\u001b[0m     \u001b[0;32mdef\u001b[0m \u001b[0moperation\u001b[0m\u001b[0;34m(\u001b[0m\u001b[0mself\u001b[0m\u001b[0;34m)\u001b[0m\u001b[0;34m:\u001b[0m\u001b[0;34m\u001b[0m\u001b[0m\n",
      "\u001b[0;31mAttributeError\u001b[0m: 'Rum' object has no attribute 'composition'"
     ]
    }
   ],
   "source": [
    "cocktail = Rum()\n",
    "cocktail = Lemon(cocktail)\n",
    "#cocktail = Soda(cocktail)\n",
    "print(cocktail.operation())"
   ]
  }
 ],
 "metadata": {
  "kernelspec": {
   "display_name": "Python 3",
   "language": "python",
   "name": "python3"
  },
  "language_info": {
   "codemirror_mode": {
    "name": "ipython",
    "version": 3
   },
   "file_extension": ".py",
   "mimetype": "text/x-python",
   "name": "python",
   "nbconvert_exporter": "python",
   "pygments_lexer": "ipython3",
   "version": "3.5.2"
  }
 },
 "nbformat": 4,
 "nbformat_minor": 2
}
