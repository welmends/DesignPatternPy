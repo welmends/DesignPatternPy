{
 "cells": [
  {
   "cell_type": "code",
   "execution_count": 1,
   "metadata": {},
   "outputs": [],
   "source": [
    "import abc"
   ]
  },
  {
   "cell_type": "code",
   "execution_count": 2,
   "metadata": {},
   "outputs": [],
   "source": [
    "class AbstractFactory(metaclass=abc.ABCMeta):\n",
    "    '''\n",
    "    Declare an interface for operations that create abstract product objects.\n",
    "    '''\n",
    "\n",
    "    @abc.abstractmethod\n",
    "    def create_product_a(self):\n",
    "        pass\n",
    "\n",
    "    @abc.abstractmethod\n",
    "    def create_product_b(self):\n",
    "        pass"
   ]
  },
  {
   "cell_type": "code",
   "execution_count": 3,
   "metadata": {},
   "outputs": [],
   "source": [
    "class ConcreteFactory1(AbstractFactory):\n",
    "    '''\n",
    "    Implement the operations to create concrete product objects.\n",
    "    '''\n",
    "\n",
    "    def create_product_a(self):\n",
    "        return ConcreteProductA1()\n",
    "\n",
    "    def create_product_b(self):\n",
    "        return ConcreteProductB1()\n",
    "\n",
    "    \n",
    "class ConcreteFactory2(AbstractFactory):\n",
    "    '''\n",
    "    Implement the operations to create concrete product objects.\n",
    "    '''\n",
    "\n",
    "    def create_product_a(self):\n",
    "        return ConcreteProductA2()\n",
    "\n",
    "    def create_product_b(self):\n",
    "        return ConcreteProductB2()"
   ]
  },
  {
   "cell_type": "code",
   "execution_count": 4,
   "metadata": {},
   "outputs": [],
   "source": [
    "class AbstractProductA(metaclass=abc.ABCMeta):\n",
    "    '''\n",
    "    Declare an interface for a type of product object.\n",
    "    '''\n",
    "\n",
    "    @abc.abstractmethod\n",
    "    def interface_a(self):\n",
    "        pass\n",
    "\n",
    "\n",
    "class ConcreteProductA1(AbstractProductA):\n",
    "    '''\n",
    "    Define a product object to be created by the corresponding concrete factory.\n",
    "    Implement the AbstractProduct interface.\n",
    "    '''\n",
    "\n",
    "    def interface_a(self):\n",
    "        pass\n",
    "\n",
    "\n",
    "class ConcreteProductA2(AbstractProductA):\n",
    "    '''\n",
    "    Define a product object to be created by the corresponding concrete factory.\n",
    "    Implement the AbstractProduct interface.\n",
    "    '''\n",
    "\n",
    "    def interface_a(self):\n",
    "        pass"
   ]
  },
  {
   "cell_type": "code",
   "execution_count": 5,
   "metadata": {},
   "outputs": [],
   "source": [
    "class AbstractProductB(metaclass=abc.ABCMeta):\n",
    "    '''\n",
    "    Declare an interface for a type of product object.\n",
    "    '''\n",
    "\n",
    "    @abc.abstractmethod\n",
    "    def interface_b(self):\n",
    "        pass\n",
    "\n",
    "\n",
    "class ConcreteProductB1(AbstractProductB):\n",
    "    '''\n",
    "    Define a product object to be created by the corresponding concrete factory.\n",
    "    Implement the AbstractProduct interface.\n",
    "    '''\n",
    "\n",
    "    def interface_b(self):\n",
    "        pass\n",
    "\n",
    "\n",
    "class ConcreteProductB2(AbstractProductB):\n",
    "    '''\n",
    "    Define a product object to be created by the corresponding concrete factory.\n",
    "    Implement the AbstractProduct interface.\n",
    "    '''\n",
    "\n",
    "    def interface_b(self):\n",
    "        pass"
   ]
  },
  {
   "cell_type": "code",
   "execution_count": 6,
   "metadata": {},
   "outputs": [],
   "source": [
    "def main():\n",
    "    for factory in (ConcreteFactory1(), ConcreteFactory2()):\n",
    "        product_a = factory.create_product_a()\n",
    "        product_b = factory.create_product_b()\n",
    "        product_a.interface_a()\n",
    "        product_b.interface_b()\n",
    "\n",
    "\n",
    "if __name__ == \"__main__\":\n",
    "    main()"
   ]
  },
  {
   "cell_type": "markdown",
   "metadata": {},
   "source": [
    "### Mais Informações\n",
    "- http://www.dsc.ufcg.edu.br/~jacques/cursos/map/html/pat/abstractfactory.htm"
   ]
  }
 ],
 "metadata": {
  "kernelspec": {
   "display_name": "Python 3",
   "language": "python",
   "name": "python3"
  },
  "language_info": {
   "codemirror_mode": {
    "name": "ipython",
    "version": 3
   },
   "file_extension": ".py",
   "mimetype": "text/x-python",
   "name": "python",
   "nbconvert_exporter": "python",
   "pygments_lexer": "ipython3",
   "version": "3.5.2"
  }
 },
 "nbformat": 4,
 "nbformat_minor": 2
}
