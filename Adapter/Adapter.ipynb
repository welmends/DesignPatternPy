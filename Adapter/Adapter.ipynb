{
 "cells": [
  {
   "cell_type": "markdown",
   "metadata": {},
   "source": [
    "### Adapter - Converter a interface de uma classe em outra interface, esperada pelo cliente. O Adapter permite que interfaces incompatíveis trabalhem em conjunto.\n",
    "\n",
    "### Mais Informações:\n",
    "- https://sourcemaking.com/design_patterns/adapter\n",
    "- https://brizeno.wordpress.com/2011/10/03/mao-na-massa-adapter/"
   ]
  },
  {
   "cell_type": "code",
   "execution_count": 1,
   "metadata": {},
   "outputs": [],
   "source": [
    "import abc"
   ]
  },
  {
   "cell_type": "code",
   "execution_count": 2,
   "metadata": {},
   "outputs": [],
   "source": [
    "# Target\n",
    "class ImageTarget(metaclass=abc.ABCMeta):\n",
    "    @abc.abstractmethod\n",
    "    def request(self):\n",
    "        pass"
   ]
  },
  {
   "cell_type": "code",
   "execution_count": 3,
   "metadata": {},
   "outputs": [],
   "source": [
    "# Adapters\n",
    "class ImageOpenGLAdapter(ImageTarget):\n",
    "    def __init__(self):\n",
    "        self._imageAdaptee = ImageOpenGL()\n",
    "        \n",
    "    def request(self):\n",
    "        self._imageAdaptee.specific_request()\n",
    "        \n",
    "class ImageSDLSurfaceAdapter(ImageTarget):\n",
    "    def __init__(self):\n",
    "        self._imageAdaptee = ImageSDLSurface()\n",
    "        \n",
    "    def request(self):\n",
    "        self._imageAdaptee.specific_request()"
   ]
  },
  {
   "cell_type": "code",
   "execution_count": 4,
   "metadata": {},
   "outputs": [],
   "source": [
    "# Adaptees\n",
    "class ImageOpenGL:\n",
    "    def specific_request(self):\n",
    "        print('OpenGL Image Requested!')\n",
    "        \n",
    "class ImageSDLSurface:\n",
    "    def specific_request(self):\n",
    "        print('SDL Surface Image Requested!')"
   ]
  },
  {
   "cell_type": "code",
   "execution_count": 5,
   "metadata": {},
   "outputs": [
    {
     "name": "stdout",
     "output_type": "stream",
     "text": [
      ">> Requesting OpenGL Image..\n",
      "OpenGL Image Requested!\n",
      ">> Requesting SDL Surface Image..\n",
      "SDL Surface Image Requested!\n"
     ]
    }
   ],
   "source": [
    "print('>> Requesting OpenGL Image..')\n",
    "image = ImageOpenGLAdapter()\n",
    "image.request()\n",
    "\n",
    "print('>> Requesting SDL Surface Image..')\n",
    "image = ImageSDLSurfaceAdapter()\n",
    "image.request()"
   ]
  }
 ],
 "metadata": {
  "kernelspec": {
   "display_name": "Python 3",
   "language": "python",
   "name": "python3"
  },
  "language_info": {
   "codemirror_mode": {
    "name": "ipython",
    "version": 3
   },
   "file_extension": ".py",
   "mimetype": "text/x-python",
   "name": "python",
   "nbconvert_exporter": "python",
   "pygments_lexer": "ipython3",
   "version": "3.5.2"
  }
 },
 "nbformat": 4,
 "nbformat_minor": 2
}
