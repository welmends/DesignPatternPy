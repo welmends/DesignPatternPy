{
 "cells": [
  {
   "cell_type": "code",
   "execution_count": 1,
   "metadata": {},
   "outputs": [],
   "source": [
    "class Car:\n",
    "    marca = None\n",
    "    \n",
    "    def __init__(self, brand = None):\n",
    "        self.brand = brand\n",
    "    \n",
    "    def __repr__(self):\n",
    "        return 'Memory Address: {}'.format(hex(id(self)))"
   ]
  },
  {
   "cell_type": "code",
   "execution_count": 2,
   "metadata": {},
   "outputs": [],
   "source": [
    "class SingletonCar(Car):\n",
    "    _instance = None\n",
    "    \n",
    "    def __new__(self):\n",
    "        if not self._instance:\n",
    "            self._instance = super(SingletonCar, self).__new__(self)\n",
    "        return self._instance"
   ]
  },
  {
   "cell_type": "code",
   "execution_count": 5,
   "metadata": {},
   "outputs": [
    {
     "name": "stdout",
     "output_type": "stream",
     "text": [
      "Car\n",
      "<__main__.Car object at 0x7fe4ec236240>\n",
      "<__main__.Car object at 0x7fe4ec2360b8>\n",
      "\n",
      " SingletonCar\n",
      "<__main__.SingletonCar object at 0x7fe4ec2ee748>\n",
      "<__main__.SingletonCar object at 0x7fe4ec2ee748>\n"
     ]
    }
   ],
   "source": [
    "if __name__ == \"__main__\":\n",
    "    \n",
    "    print('Car')\n",
    "    \n",
    "    car_1 = Car()\n",
    "    print(car_1)\n",
    "\n",
    "    car_2 = Car()\n",
    "    print(car_2)\n",
    "    \n",
    "    print('\\n SingletonCar')\n",
    "    \n",
    "    singletonCar_1 = SingletonCar()\n",
    "    print(singletonCar_1)\n",
    "\n",
    "    singletonCar_2 = SingletonCar()\n",
    "    print(singletonCar_2)"
   ]
  }
 ],
 "metadata": {
  "kernelspec": {
   "display_name": "Python 3",
   "language": "python",
   "name": "python3"
  },
  "language_info": {
   "codemirror_mode": {
    "name": "ipython",
    "version": 3
   },
   "file_extension": ".py",
   "mimetype": "text/x-python",
   "name": "python",
   "nbconvert_exporter": "python",
   "pygments_lexer": "ipython3",
   "version": "3.5.2"
  }
 },
 "nbformat": 4,
 "nbformat_minor": 2
}
