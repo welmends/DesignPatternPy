{
 "cells": [
  {
   "cell_type": "markdown",
   "metadata": {},
   "source": [
    "### Prototype - Proporciona uma instância totalmente inicializada para ser copiada ou clonada\n",
    "\n",
    "### Mais Informações\n",
    "- https://www.geeksforgeeks.org/prototype-design-pattern/"
   ]
  },
  {
   "cell_type": "code",
   "execution_count": 1,
   "metadata": {},
   "outputs": [],
   "source": [
    "import abc"
   ]
  },
  {
   "cell_type": "code",
   "execution_count": 2,
   "metadata": {},
   "outputs": [],
   "source": [
    "class Car(metaclass=abc.ABCMeta):\n",
    "    model = None\n",
    "    value = None\n",
    "    \n",
    "    def __init__(self, model='Prototype', value='None'):\n",
    "        self.model = model\n",
    "        self.value = value\n",
    "        \n",
    "    @abc.abstractmethod\n",
    "    def clone(self, model, value):\n",
    "        pass"
   ]
  },
  {
   "cell_type": "code",
   "execution_count": 3,
   "metadata": {},
   "outputs": [],
   "source": [
    "class Sandero(Car):\n",
    "    def clone(self, model, value):\n",
    "        return Sandero(model, value)\n",
    "    \n",
    "    def __repr__(self):\n",
    "        return 'Sandero {} - R$ {} - Memory Address: {}'.format(self.model, self.value, hex(id(self)))"
   ]
  },
  {
   "cell_type": "code",
   "execution_count": 4,
   "metadata": {},
   "outputs": [],
   "source": [
    "class Logan(Car):\n",
    "    def clone(self, model, value):\n",
    "        return Logan(model, value)\n",
    "    \n",
    "    def __repr__(self):\n",
    "        return 'Logan {} - R$ {} - Memory Address: {}'.format(self.model, self.value, hex(id(self)))"
   ]
  },
  {
   "cell_type": "code",
   "execution_count": 5,
   "metadata": {},
   "outputs": [
    {
     "name": "stdout",
     "output_type": "stream",
     "text": [
      "Prototypes:\n",
      "Sandero Prototype - R$ None - Memory Address: 0x7f7b5404f390\n",
      "Logan Prototype - R$ None - Memory Address: 0x7f7b5404f4a8\n"
     ]
    }
   ],
   "source": [
    "print('Prototypes:')\n",
    "\n",
    "sanderoPrototype = Sandero()\n",
    "loganPrototype = Logan()\n",
    "\n",
    "print(sanderoPrototype)\n",
    "print(loganPrototype)"
   ]
  },
  {
   "cell_type": "code",
   "execution_count": 6,
   "metadata": {},
   "outputs": [
    {
     "name": "stdout",
     "output_type": "stream",
     "text": [
      "Sandero Instances:\n",
      "Sandero Life    - R$ 46990 - Memory Address: 0x7f7b5404fa20\n",
      "Sandero Zen     - R$ 49990 - Memory Address: 0x7f7b5404fa90\n",
      "Sandero Intense - R$ 65490 - Memory Address: 0x7f7b5404fb00\n"
     ]
    }
   ],
   "source": [
    "print('Sandero Instances:')\n",
    "\n",
    "sanderoLife    = sanderoPrototype.clone('Life   ', 46990)\n",
    "sanderoZen     = sanderoPrototype.clone('Zen    ', 49990)\n",
    "sanderoIntense = sanderoPrototype.clone('Intense', 65490)\n",
    "\n",
    "\n",
    "print(sanderoLife)\n",
    "print(sanderoZen)\n",
    "print(sanderoIntense)"
   ]
  },
  {
   "cell_type": "code",
   "execution_count": 7,
   "metadata": {},
   "outputs": [
    {
     "name": "stdout",
     "output_type": "stream",
     "text": [
      "Logan Instances:\n",
      "Logan Life    - R$ 50490 - Memory Address: 0x7f7b5404fba8\n",
      "Logan Zen     - R$ 53490 - Memory Address: 0x7f7b5404fc18\n",
      "Logan Intense - R$ 68990 - Memory Address: 0x7f7b5404fc88\n"
     ]
    }
   ],
   "source": [
    "print('Logan Instances:')\n",
    "\n",
    "loganLife    = loganPrototype.clone('Life   ', 50490)\n",
    "loganZen     = loganPrototype.clone('Zen    ', 53490)\n",
    "loganIntense = loganPrototype.clone('Intense', 68990)\n",
    "\n",
    "print(loganLife)\n",
    "print(loganZen)\n",
    "print(loganIntense)"
   ]
  }
 ],
 "metadata": {
  "kernelspec": {
   "display_name": "Python 3",
   "language": "python",
   "name": "python3"
  },
  "language_info": {
   "codemirror_mode": {
    "name": "ipython",
    "version": 3
   },
   "file_extension": ".py",
   "mimetype": "text/x-python",
   "name": "python",
   "nbconvert_exporter": "python",
   "pygments_lexer": "ipython3",
   "version": "3.5.2"
  }
 },
 "nbformat": 4,
 "nbformat_minor": 2
}
