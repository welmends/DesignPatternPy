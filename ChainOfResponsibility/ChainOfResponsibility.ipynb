{
 "cells": [
  {
   "cell_type": "markdown",
   "metadata": {},
   "source": [
    "### Chain Of Responsibility - Evite acoplar o remetente de uma solicitação ao destinatário, dando a mais de um objeto a chance de lidar com a solicitação. Encadeie os objetos de recebimento e passe a solicitação ao longo da cadeia até que um objeto lide com isso.\n",
    "\n",
    "### Mais Informações:\n",
    "- https://sourcemaking.com/design_patterns/chain_of_responsibility"
   ]
  },
  {
   "cell_type": "code",
   "execution_count": 1,
   "metadata": {},
   "outputs": [],
   "source": [
    "import abc"
   ]
  },
  {
   "cell_type": "code",
   "execution_count": 2,
   "metadata": {},
   "outputs": [],
   "source": [
    "# Handler Interface (ATM)\n",
    "class ATM(metaclass=abc.ABCMeta):\n",
    "    def __init__(self, money_available, successor=None):\n",
    "        self._money_available = money_available\n",
    "        self._successor = successor\n",
    "    \n",
    "    def set_successor(self, successor):\n",
    "        self._successor = successor\n",
    "        \n",
    "    @abc.abstractmethod\n",
    "    def withdraw_money(self):\n",
    "        pass"
   ]
  },
  {
   "cell_type": "code",
   "execution_count": 3,
   "metadata": {},
   "outputs": [],
   "source": [
    "# Handler Implementations (ATM Physical 1)\n",
    "class ATM1(ATM):\n",
    "    def withdraw_money(self, money_request):\n",
    "        print('[1] Trying to withdraw money (available: {}, requested: {})..'.format(self._money_available, money_request))\n",
    "        if self._money_available>=money_request:\n",
    "            self._money_available-=money_request\n",
    "            print('[1] Withdrawing money (available: {})..'.format(self._money_available))\n",
    "        elif self._successor is not None:\n",
    "            print('[1] Passing the responsibility to successor..')\n",
    "            self._successor.withdraw_money(money_request)\n",
    "\n",
    "# Handler Implementations (ATM Physical 2)\n",
    "class ATM2(ATM):\n",
    "    def withdraw_money(self, money_request):\n",
    "        print('[1] Trying to withdraw money (available: {}, requested: {})..'.format(self._money_available, money_request))\n",
    "        if self._money_available>=money_request:\n",
    "            self._money_available-=money_request\n",
    "            print('[2] Withdrawing money (available: {})..'.format(self._money_available))\n",
    "        elif self._successor is not None:\n",
    "            print('[2] Passing the responsibility to successor..')\n",
    "            self._successor.withdraw_money(money_request)"
   ]
  },
  {
   "cell_type": "code",
   "execution_count": 4,
   "metadata": {},
   "outputs": [
    {
     "name": "stdout",
     "output_type": "stream",
     "text": [
      "[1] Trying to withdraw money (available: 100, requested: 40)..\n",
      "[1] Withdrawing money (available: 60)..\n",
      "\n",
      "[1] Trying to withdraw money (available: 50, requested: 60)..\n",
      "[2] Passing the responsibility to successor..\n",
      "[1] Trying to withdraw money (available: 60, requested: 60)..\n",
      "[1] Withdrawing money (available: 0)..\n"
     ]
    }
   ],
   "source": [
    "# Creating ATMs\n",
    "atm1 = ATM1(100)\n",
    "atm2 = ATM2(50)\n",
    "\n",
    "# Setting successors\n",
    "atm1.set_successor(atm2)\n",
    "atm2.set_successor(atm1)\n",
    "\n",
    "# Withdrawing some money\n",
    "atm1.withdraw_money(40)\n",
    "print('')\n",
    "atm2.withdraw_money(60)"
   ]
  }
 ],
 "metadata": {
  "kernelspec": {
   "display_name": "Python 3",
   "language": "python",
   "name": "python3"
  },
  "language_info": {
   "codemirror_mode": {
    "name": "ipython",
    "version": 3
   },
   "file_extension": ".py",
   "mimetype": "text/x-python",
   "name": "python",
   "nbconvert_exporter": "python",
   "pygments_lexer": "ipython3",
   "version": "3.5.2"
  }
 },
 "nbformat": 4,
 "nbformat_minor": 2
}
