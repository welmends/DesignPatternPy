{
 "cells": [
  {
   "cell_type": "markdown",
   "metadata": {},
   "source": [
    "### Private Class Data - Tem o objetivo de restringir o acesso à atributos da classe\n",
    "\n",
    "### Mais Informações:\n",
    "- https://sourcemaking.com/design_patterns/private_class_data"
   ]
  },
  {
   "cell_type": "code",
   "execution_count": 1,
   "metadata": {},
   "outputs": [],
   "source": [
    "class Wallet:\n",
    "    def __init__(self, id, value):\n",
    "        self.id = id\n",
    "        self.__value = value\n",
    "\n",
    "    def getValue(self):\n",
    "        return self.__value\n",
    "\n",
    "    def addFunds(self,value_added):\n",
    "        self.__value+=value_added"
   ]
  },
  {
   "cell_type": "code",
   "execution_count": 2,
   "metadata": {},
   "outputs": [
    {
     "name": "stdout",
     "output_type": "stream",
     "text": [
      ">> Printando atributos...\n",
      "001\n",
      "'Wallet' object has no attribute '__valor'\n",
      ">> Printando e modificando atributos privados...\n",
      "100\n",
      "{'_Wallet__value': 150, 'id': '001'}\n"
     ]
    }
   ],
   "source": [
    "my_wallet = Wallet(\"001\", 100)\n",
    "\n",
    "try:\n",
    "    print('>> Printando atributos...')\n",
    "    print(my_wallet.id)\n",
    "    print(my_wallet.__valor)\n",
    "except Exception as ex:\n",
    "    print(ex)\n",
    "\n",
    "print('>> Printando e modificando atributos privados...')\n",
    "print(my_wallet.getValue())\n",
    "my_wallet.addFunds(50)\n",
    "print(my_wallet.__dict__)"
   ]
  }
 ],
 "metadata": {
  "kernelspec": {
   "display_name": "Python 3",
   "language": "python",
   "name": "python3"
  },
  "language_info": {
   "codemirror_mode": {
    "name": "ipython",
    "version": 3
   },
   "file_extension": ".py",
   "mimetype": "text/x-python",
   "name": "python",
   "nbconvert_exporter": "python",
   "pygments_lexer": "ipython3",
   "version": "3.5.2"
  }
 },
 "nbformat": 4,
 "nbformat_minor": 2
}
