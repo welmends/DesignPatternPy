{
 "cells": [
  {
   "cell_type": "code",
   "execution_count": 1,
   "metadata": {},
   "outputs": [],
   "source": [
    "class Singleton(object):\n",
    "    _instance = None\n",
    "    def __new__(self, *args, **kwargs):\n",
    "        if not isinstance(self._instance, self):\n",
    "            self._instance = object.__new__(self)\n",
    "        return self._instance"
   ]
  },
  {
   "cell_type": "code",
   "execution_count": 2,
   "metadata": {},
   "outputs": [],
   "source": [
    "class Car(Singleton):\n",
    "    def __init__(self, brand = None):\n",
    "        self.brand = brand\n",
    "    \n",
    "    def __repr__(self):\n",
    "        if self.brand is not None:\n",
    "            return 'Memory Address: {} {}'.format(hex(id(self)), \"Brand: \" + self.brand)\n",
    "        else:\n",
    "            return 'Memory Address: {} {}'.format(hex(id(self)), \"Brand: None\")"
   ]
  },
  {
   "cell_type": "code",
   "execution_count": 3,
   "metadata": {},
   "outputs": [
    {
     "name": "stdout",
     "output_type": "stream",
     "text": [
      "Memory Address: 0x7f70701e9198 Brand: Toyota\n",
      "Memory Address: 0x7f70701e9198 Brand: Toyota\n"
     ]
    }
   ],
   "source": [
    "if __name__ == \"__main__\":\n",
    "    \n",
    "    car_1 = Car('Fiat')\n",
    "    car_2 = Car('Toyota')\n",
    "    \n",
    "    print(car_1)\n",
    "    print(car_2)"
   ]
  }
 ],
 "metadata": {
  "kernelspec": {
   "display_name": "Python 3",
   "language": "python",
   "name": "python3"
  },
  "language_info": {
   "codemirror_mode": {
    "name": "ipython",
    "version": 3
   },
   "file_extension": ".py",
   "mimetype": "text/x-python",
   "name": "python",
   "nbconvert_exporter": "python",
   "pygments_lexer": "ipython3",
   "version": "3.5.2"
  }
 },
 "nbformat": 4,
 "nbformat_minor": 2
}
