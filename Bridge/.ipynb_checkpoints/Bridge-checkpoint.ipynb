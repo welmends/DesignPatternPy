{
 "cells": [
  {
   "cell_type": "markdown",
   "metadata": {},
   "source": [
    "### Bridge - Desacoplar uma abstração da sua implementação, de modo que as duas possam variar independentemente.\n",
    "\n",
    "### Mais informações:\n",
    "- https://sourcemaking.com/design_patterns/bridge\n",
    "- https://brizeno.wordpress.com/2011/10/13/mao-na-massa-bridge/"
   ]
  },
  {
   "cell_type": "code",
   "execution_count": 1,
   "metadata": {},
   "outputs": [],
   "source": [
    "import abc"
   ]
  },
  {
   "cell_type": "code",
   "execution_count": 2,
   "metadata": {},
   "outputs": [],
   "source": [
    "# Pane Interface\n",
    "class ImplementedPane(metaclass=abc.ABCMeta):\n",
    "    @abc.abstractmethod\n",
    "    def operation_implemented(self, pane_type):\n",
    "        pass"
   ]
  },
  {
   "cell_type": "code",
   "execution_count": 3,
   "metadata": {},
   "outputs": [],
   "source": [
    "# Pane Implementations (Operating Systems)\n",
    "class LinuxPane(ImplementedPane):\n",
    "    def operation_implemented(self, pane_type):\n",
    "        print('Implementing Linux {}..'.format(pane_type))\n",
    "        \n",
    "class MacOSPane(ImplementedPane):\n",
    "    def operation_implemented(self, pane_type):\n",
    "        print('Implementing MacOs {}..'.format(pane_type))"
   ]
  },
  {
   "cell_type": "code",
   "execution_count": 4,
   "metadata": {},
   "outputs": [],
   "source": [
    "# Abstract Pane\n",
    "class AbstractPane(metaclass=abc.ABCMeta):\n",
    "    def __init__(self, implemented):\n",
    "        self._implemented = implemented\n",
    "    \n",
    "    @abc.abstractmethod\n",
    "    def operation(self):\n",
    "        pass"
   ]
  },
  {
   "cell_type": "code",
   "execution_count": 5,
   "metadata": {},
   "outputs": [],
   "source": [
    "# Types of Pane\n",
    "class BorderPane(AbstractPane):\n",
    "    def operation(self):\n",
    "        self._implemented.operation_implemented('BorderPane')\n",
    "        \n",
    "class GridPane(AbstractPane):\n",
    "    def operation(self):\n",
    "        self._implemented.operation_implemented('GridPane')"
   ]
  },
  {
   "cell_type": "code",
   "execution_count": 8,
   "metadata": {},
   "outputs": [
    {
     "name": "stdout",
     "output_type": "stream",
     "text": [
      ">> BorderPane implemented on Linux:\n",
      "Implementing Linux BorderPane..\n",
      " \n",
      ">> BorderPane implemented on MacOS:\n",
      "Implementing MacOs BorderPane..\n",
      " \n",
      ">> GridPane implemented on Linux:\n",
      "Implementing Linux GridPane..\n",
      " \n",
      ">> GridPane implemented on MacOS:\n",
      "Implementing MacOs GridPane..\n",
      " \n"
     ]
    }
   ],
   "source": [
    "print('>> BorderPane implemented on Linux:')\n",
    "pane = BorderPane(LinuxPane())\n",
    "pane.operation()\n",
    "print(' ')\n",
    "\n",
    "print('>> BorderPane implemented on MacOS:')\n",
    "pane = BorderPane(MacOSPane())\n",
    "pane.operation()\n",
    "print(' ')\n",
    "\n",
    "print('>> GridPane implemented on Linux:')\n",
    "pane = GridPane(LinuxPane())\n",
    "pane.operation()\n",
    "print(' ')\n",
    "\n",
    "print('>> GridPane implemented on MacOS:')\n",
    "pane = GridPane(MacOSPane())\n",
    "pane.operation()\n",
    "print(' ')"
   ]
  }
 ],
 "metadata": {
  "kernelspec": {
   "display_name": "Python 3",
   "language": "python",
   "name": "python3"
  },
  "language_info": {
   "codemirror_mode": {
    "name": "ipython",
    "version": 3
   },
   "file_extension": ".py",
   "mimetype": "text/x-python",
   "name": "python",
   "nbconvert_exporter": "python",
   "pygments_lexer": "ipython3",
   "version": "3.5.2"
  }
 },
 "nbformat": 4,
 "nbformat_minor": 2
}
