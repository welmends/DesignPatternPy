{
 "cells": [
  {
   "cell_type": "markdown",
   "metadata": {},
   "source": [
    "### Object Pool - Tem o objetivo de reduzir o tempo e custo das instanciações, reaproveitando objetos.\n",
    "\n",
    "### Mais Informações:\n",
    "- https://sourcemaking.com/design_patterns/object_pool\n",
    "- http://www.csi.uneb.br/padroes_de_projetos/object_pool.html"
   ]
  },
  {
   "cell_type": "code",
   "execution_count": 1,
   "metadata": {},
   "outputs": [],
   "source": [
    "class DB:\n",
    "    def __init__(self, id=None):\n",
    "        self.id = id\n",
    "    \n",
    "    def __repr__(self):\n",
    "        return 'DB Id: {} | Memory Address: {}'.format(self.id, hex(id(self)))"
   ]
  },
  {
   "cell_type": "code",
   "execution_count": 2,
   "metadata": {},
   "outputs": [],
   "source": [
    "class DBPool:\n",
    "    def __init__(self, size):\n",
    "        self._dbs = [DB(_) for _ in range(size)]\n",
    "\n",
    "    def acquire(self):\n",
    "        return self._dbs.pop()\n",
    "\n",
    "    def release(self, db):\n",
    "        self._dbs.append(db)\n",
    "        \n",
    "    def getPoolSize(self):\n",
    "        return len(self._dbs)"
   ]
  },
  {
   "cell_type": "code",
   "execution_count": 3,
   "metadata": {},
   "outputs": [
    {
     "name": "stdout",
     "output_type": "stream",
     "text": [
      ">> Create Pool..\n",
      "Pool size: 10\n",
      ">> Acquire 2 dbs..\n",
      "DB Id: 9 | Memory Address: 0x7f5dcefc0c88\n",
      "DB Id: 8 | Memory Address: 0x7f5dcefc0c50\n",
      "Pool size: 8\n",
      ">> Release 2 dbs..\n",
      "Pool size: 10\n"
     ]
    }
   ],
   "source": [
    "print('>> Create Pool..')\n",
    "dbpool = DBPool(10)\n",
    "print('Pool size: ' + str(dbpool.getPoolSize()))\n",
    "\n",
    "print('>> Acquire 2 dbs..')\n",
    "db1 = dbpool.acquire()\n",
    "db2 = dbpool.acquire()\n",
    "print(db1)\n",
    "print(db2)\n",
    "print('Pool size: ' + str(dbpool.getPoolSize()))\n",
    "\n",
    "print('>> Release 2 dbs..')\n",
    "dbpool.release(db1)\n",
    "dbpool.release(db2)\n",
    "print('Pool size: ' + str(dbpool.getPoolSize()))"
   ]
  }
 ],
 "metadata": {
  "kernelspec": {
   "display_name": "Python 3",
   "language": "python",
   "name": "python3"
  },
  "language_info": {
   "codemirror_mode": {
    "name": "ipython",
    "version": 3
   },
   "file_extension": ".py",
   "mimetype": "text/x-python",
   "name": "python",
   "nbconvert_exporter": "python",
   "pygments_lexer": "ipython3",
   "version": "3.5.2"
  }
 },
 "nbformat": 4,
 "nbformat_minor": 2
}
