{
 "cells": [
  {
   "cell_type": "markdown",
   "metadata": {},
   "source": [
    "### Iterator - Forneça uma maneira de acessar os elementos de um objeto agregado sequencialmente, sem expor sua representação subjacente.\n",
    "\n",
    "### Mais Informações:\n",
    "- https://sourcemaking.com/design_patterns/iterator\n",
    "- https://brizeno.wordpress.com/2011/09/15/mao-na-massa-iterator/\n",
    "- https://refactoring.guru/design-patterns/iterator/python/example"
   ]
  },
  {
   "cell_type": "code",
   "execution_count": 1,
   "metadata": {},
   "outputs": [],
   "source": [
    "from __future__ import annotations\n",
    "from collections.abc import Iterable, Iterator\n",
    "from typing import Any, List"
   ]
  },
  {
   "cell_type": "code",
   "execution_count": 2,
   "metadata": {},
   "outputs": [],
   "source": [
    "# Implement Iterator Interface (collections.abc.Iterator) [Concrete class]\n",
    "class AlphabeticalOrderIterator(Iterator):\n",
    "    _position: int = None\n",
    "    _reverse: bool = False\n",
    "\n",
    "    def __init__(self, collection: WordsCollection, reverse: bool = False) -> None:\n",
    "        self._collection = collection\n",
    "        self._reverse = reverse\n",
    "        self._position = -1 if reverse else 0\n",
    "\n",
    "    def __next__(self):\n",
    "        try:\n",
    "            value = self._collection[self._position]\n",
    "            self._position += -1 if self._reverse else 1\n",
    "        except IndexError:\n",
    "            raise StopIteration()\n",
    "\n",
    "        return value"
   ]
  },
  {
   "cell_type": "code",
   "execution_count": 3,
   "metadata": {},
   "outputs": [],
   "source": [
    "# Implement Iterable (Aggregate) Interface (collections.abc.Iterable) [Concrete class]\n",
    "class WordsCollection(Iterable):\n",
    "    def __init__(self, collection: List[Any] = []) -> None:\n",
    "        self._collection = collection\n",
    "\n",
    "    def __iter__(self) -> AlphabeticalOrderIterator:\n",
    "        return AlphabeticalOrderIterator(self._collection)\n",
    "\n",
    "    def get_reverse_iterator(self) -> AlphabeticalOrderIterator:\n",
    "        return AlphabeticalOrderIterator(self._collection, True)\n",
    "\n",
    "    def add_item(self, item: Any):\n",
    "        self._collection.append(item)"
   ]
  },
  {
   "cell_type": "code",
   "execution_count": 4,
   "metadata": {},
   "outputs": [
    {
     "name": "stdout",
     "output_type": "stream",
     "text": [
      "Straight traversal:\n",
      "First\n",
      "Second\n",
      "Third\n",
      "\n",
      "Reverse traversal:\n",
      "Third\n",
      "Second\n",
      "First"
     ]
    }
   ],
   "source": [
    "collection = WordsCollection()\n",
    "collection.add_item(\"First\")\n",
    "collection.add_item(\"Second\")\n",
    "collection.add_item(\"Third\")\n",
    "\n",
    "print(\"Straight traversal:\")\n",
    "print(\"\\n\".join(collection))\n",
    "print(\"\")\n",
    "\n",
    "print(\"Reverse traversal:\")\n",
    "print(\"\\n\".join(collection.get_reverse_iterator()), end=\"\")"
   ]
  }
 ],
 "metadata": {
  "kernelspec": {
   "display_name": "Python 3",
   "language": "python",
   "name": "python3"
  },
  "language_info": {
   "codemirror_mode": {
    "name": "ipython",
    "version": 3
   },
   "file_extension": ".py",
   "mimetype": "text/x-python",
   "name": "python",
   "nbconvert_exporter": "python",
   "pygments_lexer": "ipython3",
   "version": "3.7.5"
  }
 },
 "nbformat": 4,
 "nbformat_minor": 2
}
