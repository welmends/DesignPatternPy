{
 "cells": [
  {
   "cell_type": "markdown",
   "metadata": {},
   "source": [
    "### Mediator - Defina um objeto que encapsula como um conjunto de objetos interage. O mediador promove o acoplamento frouxo, impedindo que os objetos se refiram explicitamente, e permite variar a interação deles independentemente.\n",
    "\n",
    "### Mais Informações:\n",
    "- https://sourcemaking.com/design_patterns/mediator\n",
    "- https://brizeno.wordpress.com/2011/10/26/mao-na-massa-mediator/"
   ]
  },
  {
   "cell_type": "code",
   "execution_count": 1,
   "metadata": {},
   "outputs": [],
   "source": [
    "import abc"
   ]
  },
  {
   "cell_type": "code",
   "execution_count": 2,
   "metadata": {},
   "outputs": [],
   "source": [
    "# Mediator Interface\n",
    "class Mediator(metaclass=abc.ABCMeta):\n",
    "    @abc.abstractmethod\n",
    "    def send(self, msg):\n",
    "        pass"
   ]
  },
  {
   "cell_type": "code",
   "execution_count": 3,
   "metadata": {},
   "outputs": [],
   "source": [
    "# Mediator Implementation: WhatsApp Mediator\n",
    "class WhatsApp(Mediator):\n",
    "    def __init__(self):\n",
    "        self._colleagues = list()\n",
    "        self._colleagues_types = Colleague.__subclasses__()\n",
    "    \n",
    "    def add_colleague(self, colleague):\n",
    "        self._colleagues.append(colleague)\n",
    "        \n",
    "    def send(self, msg, colleague):\n",
    "        for col in self._colleagues:\n",
    "            if col is not colleague:\n",
    "                col.receive(msg)\n",
    "        print('     ----------------------- End of the broadcast -----------------------')"
   ]
  },
  {
   "cell_type": "code",
   "execution_count": 4,
   "metadata": {},
   "outputs": [],
   "source": [
    "# Colleague Interface\n",
    "class Colleague(metaclass=abc.ABCMeta):\n",
    "    def __init__(self, mediator):\n",
    "        self._mediator = mediator\n",
    "    \n",
    "    @abc.abstractmethod\n",
    "    def send(self, msg):\n",
    "        pass\n",
    "            \n",
    "    @abc.abstractmethod\n",
    "    def receive(self, msg):\n",
    "        pass"
   ]
  },
  {
   "cell_type": "code",
   "execution_count": 5,
   "metadata": {},
   "outputs": [],
   "source": [
    "# Colleague Implementations: Android, IOS and WindowsPhone\n",
    "class Android(Colleague):\n",
    "    def send(self, msg):\n",
    "        print('(->) Android send the message: {}'.format(msg))\n",
    "        self._mediator.send(msg, self)\n",
    "        \n",
    "    def receive(self, msg):\n",
    "        print('(<-) Android receive the message: {}'.format(msg))\n",
    "        \n",
    "class IOS(Colleague):\n",
    "    def send(self, msg):\n",
    "        print('(->) IOS send the message: {}'.format(msg))\n",
    "        self._mediator.send(msg, self)\n",
    "        \n",
    "    def receive(self, msg):\n",
    "        print('(<-) IOS receive the message: {}'.format(msg))\n",
    "        \n",
    "class WindowsPhone(Colleague):\n",
    "    def send(self, msg):\n",
    "        print('(->) Windows Phone send the message: {}'.format(msg))\n",
    "        self._mediator.send(msg, self)\n",
    "        \n",
    "    def receive(self, msg):\n",
    "        print('(<-) Windows Phone receive the message: {}'.format(msg))"
   ]
  },
  {
   "cell_type": "code",
   "execution_count": 6,
   "metadata": {},
   "outputs": [
    {
     "name": "stdout",
     "output_type": "stream",
     "text": [
      "(->) Android send the message: Hello, I'm an Android!\n",
      "(<-) IOS receive the message: Hello, I'm an Android!\n",
      "(<-) Windows Phone receive the message: Hello, I'm an Android!\n",
      "     ----------------------- End of the broadcast -----------------------\n",
      "(->) IOS send the message: Hello Android, I'm an IOS!\n",
      "(<-) Android receive the message: Hello Android, I'm an IOS!\n",
      "(<-) Windows Phone receive the message: Hello Android, I'm an IOS!\n",
      "     ----------------------- End of the broadcast -----------------------\n",
      "(->) IOS send the message: Hello everyone, I'm a Windows Phone!\n",
      "(<-) Android receive the message: Hello everyone, I'm a Windows Phone!\n",
      "(<-) Windows Phone receive the message: Hello everyone, I'm a Windows Phone!\n",
      "     ----------------------- End of the broadcast -----------------------\n"
     ]
    }
   ],
   "source": [
    "# Instantiate Mediator\n",
    "wpp = WhatsApp()\n",
    "\n",
    "# Instantiate Colleagues\n",
    "android = Android(wpp)\n",
    "ios = IOS(wpp)\n",
    "windows_phone = WindowsPhone(wpp)\n",
    "\n",
    "# Add Colleagues to the Mediator\n",
    "wpp.add_colleague(android)\n",
    "wpp.add_colleague(ios)\n",
    "wpp.add_colleague(windows_phone)\n",
    "\n",
    "# Send some messages in broadcast\n",
    "android.send(\"Hello, I'm an Android!\")\n",
    "ios.send(\"Hello Android, I'm an IOS!\")\n",
    "ios.send(\"Hello everyone, I'm a Windows Phone!\")"
   ]
  }
 ],
 "metadata": {
  "kernelspec": {
   "display_name": "Python 3",
   "language": "python",
   "name": "python3"
  },
  "language_info": {
   "codemirror_mode": {
    "name": "ipython",
    "version": 3
   },
   "file_extension": ".py",
   "mimetype": "text/x-python",
   "name": "python",
   "nbconvert_exporter": "python",
   "pygments_lexer": "ipython3",
   "version": "3.5.2"
  }
 },
 "nbformat": 4,
 "nbformat_minor": 2
}
