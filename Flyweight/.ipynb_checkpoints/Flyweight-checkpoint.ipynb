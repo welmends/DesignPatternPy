{
 "cells": [
  {
   "cell_type": "markdown",
   "metadata": {},
   "source": [
    "### Flyweight - Use o compartilhamento para oferecer suporte a um grande número de objetos refinados com eficiência.\n",
    "\n",
    "### Mais Informações:\n",
    "- https://sourcemaking.com/design_patterns/flyweight\n",
    "- https://brizeno.wordpress.com/2011/11/13/mao-na-massa-flyweight/"
   ]
  },
  {
   "cell_type": "code",
   "execution_count": 1,
   "metadata": {},
   "outputs": [],
   "source": [
    "import abc"
   ]
  },
  {
   "cell_type": "code",
   "execution_count": 2,
   "metadata": {},
   "outputs": [],
   "source": [
    "# Interface Flyweight\n",
    "class ImageFlyweight(metaclass=abc.ABCMeta):\n",
    "    def __init__(self):\n",
    "        self.intrinsic_state = False # (True - Highlighted | False - Not Highlighted)\n",
    "\n",
    "    @abc.abstractmethod\n",
    "    def draw(self, extrinsic_state):\n",
    "        pass"
   ]
  },
  {
   "cell_type": "code",
   "execution_count": 3,
   "metadata": {},
   "outputs": [],
   "source": [
    "# Concrete Flyweight\n",
    "class Image(ImageFlyweight):\n",
    "    def __init__(self, name):\n",
    "        super().__init__()\n",
    "        self.name = name\n",
    "        \n",
    "    def draw(self, extrinsic_state):\n",
    "        if(extrinsic_state==True):\n",
    "            print('Drawing {} image.. (Highlighted)'.format(self.name))\n",
    "            self.intrinsic_state = True\n",
    "        else:\n",
    "            print('Drawing {} image..'.format(self.name))"
   ]
  },
  {
   "cell_type": "code",
   "execution_count": 4,
   "metadata": {},
   "outputs": [],
   "source": [
    "# Flyweight Factory\n",
    "class ImageFlyweightFactory:\n",
    "    def __init__(self):\n",
    "        self._flyweights = {}\n",
    "    \n",
    "    def printFlyweights(self):\n",
    "        if self._flyweights == {}:\n",
    "            print('Dict is empty!')\n",
    "        for flyw in self._flyweights:\n",
    "            print(flyw,self._flyweights[flyw])\n",
    "            \n",
    "    def getImageFlyweight(self, key):\n",
    "        try:\n",
    "            flyweight = self._flyweights[key]\n",
    "        except KeyError:\n",
    "            flyweight = Image(key)\n",
    "            self._flyweights[key] = flyweight\n",
    "        return flyweight"
   ]
  },
  {
   "cell_type": "code",
   "execution_count": 5,
   "metadata": {},
   "outputs": [
    {
     "name": "stdout",
     "output_type": "stream",
     "text": [
      "Dict is empty!\n"
     ]
    }
   ],
   "source": [
    "# Instantiate Flyweight Factory\n",
    "IFfactory = ImageFlyweightFactory()\n",
    "# Print flyweights\n",
    "IFfactory.printFlyweights()"
   ]
  },
  {
   "cell_type": "code",
   "execution_count": 6,
   "metadata": {},
   "outputs": [
    {
     "name": "stdout",
     "output_type": "stream",
     "text": [
      "Drawing Lasagna image..\n",
      "Drawing Salad image..\n",
      "Drawing Burger image..\n",
      "Drawing Pizza image.. (Highlighted)\n"
     ]
    }
   ],
   "source": [
    "# Get some flyweights\n",
    "image = IFfactory.getImageFlyweight('Lasagna')\n",
    "image.draw(False)\n",
    "image = IFfactory.getImageFlyweight('Salad')\n",
    "image.draw(False)\n",
    "image = IFfactory.getImageFlyweight('Burger')\n",
    "image.draw(False)\n",
    "image = IFfactory.getImageFlyweight('Pizza')\n",
    "image.draw(True)"
   ]
  },
  {
   "cell_type": "code",
   "execution_count": 7,
   "metadata": {},
   "outputs": [
    {
     "name": "stdout",
     "output_type": "stream",
     "text": [
      "Salad <__main__.Image object at 0x7f8d51785f98>\n",
      "Burger <__main__.Image object at 0x7f8d51785f60>\n",
      "Lasagna <__main__.Image object at 0x7f8d51785ef0>\n",
      "Pizza <__main__.Image object at 0x7f8d5178d0b8>\n"
     ]
    }
   ],
   "source": [
    "# Print flyweights\n",
    "IFfactory.printFlyweights()"
   ]
  }
 ],
 "metadata": {
  "kernelspec": {
   "display_name": "Python 3",
   "language": "python",
   "name": "python3"
  },
  "language_info": {
   "codemirror_mode": {
    "name": "ipython",
    "version": 3
   },
   "file_extension": ".py",
   "mimetype": "text/x-python",
   "name": "python",
   "nbconvert_exporter": "python",
   "pygments_lexer": "ipython3",
   "version": "3.5.2"
  }
 },
 "nbformat": 4,
 "nbformat_minor": 2
}
