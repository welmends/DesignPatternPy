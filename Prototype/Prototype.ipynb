{
 "cells": [
  {
   "cell_type": "code",
   "execution_count": 1,
   "metadata": {},
   "outputs": [],
   "source": [
    "import abc"
   ]
  },
  {
   "cell_type": "code",
   "execution_count": 2,
   "metadata": {},
   "outputs": [],
   "source": [
    "class Car(metaclass=abc.ABCMeta):\n",
    "    model = None\n",
    "    value = None\n",
    "    \n",
    "    def __init__(self, model='Prototype', value='None'):\n",
    "        self.model = model\n",
    "        self.value = value\n",
    "        \n",
    "    @abc.abstractmethod\n",
    "    def clone(self, model, value):\n",
    "        pass"
   ]
  },
  {
   "cell_type": "code",
   "execution_count": 3,
   "metadata": {},
   "outputs": [],
   "source": [
    "class Sandero(Car):\n",
    "    def clone(self, model, value):\n",
    "        return Sandero(model, value)\n",
    "    \n",
    "    def __repr__(self):\n",
    "        return 'Sandero {} - R$ {} - Memory Address: {}'.format(self.model, self.value, hex(id(self)))"
   ]
  },
  {
   "cell_type": "code",
   "execution_count": 4,
   "metadata": {},
   "outputs": [],
   "source": [
    "class Logan(Car):\n",
    "    def clone(self, model, value):\n",
    "        return Logan(model, value)\n",
    "    \n",
    "    def __repr__(self):\n",
    "        return 'Logan {} - R$ {} - Memory Address: {}'.format(self.model, self.value, hex(id(self)))"
   ]
  },
  {
   "cell_type": "code",
   "execution_count": 5,
   "metadata": {
    "scrolled": true
   },
   "outputs": [
    {
     "name": "stdout",
     "output_type": "stream",
     "text": [
      "Prototypes:\n",
      "Sandero Prototype - R$ None - Memory Address: 0x7fd7b03e1cc0\n",
      "Logan Prototype - R$ None - Memory Address: 0x7fd7b03e1c50\n",
      "\n",
      "Sandero Instances:\n",
      "Sandero Life    - R$ 46990 - Memory Address: 0x7fd7b03e1d30\n",
      "Sandero Zen     - R$ 49990 - Memory Address: 0x7fd7b03e1d68\n",
      "Sandero Intense - R$ 65490 - Memory Address: 0x7fd7b03e1da0\n",
      "\n",
      "Logan Instances:\n",
      "Logan Life    - R$ 50490 - Memory Address: 0x7fd7b03e1dd8\n",
      "Logan Zen     - R$ 53490 - Memory Address: 0x7fd7b03e1e10\n",
      "Logan Intense - R$ 68990 - Memory Address: 0x7fd7b03e1e48\n",
      "\n"
     ]
    }
   ],
   "source": [
    "def main():\n",
    "    sanderoPrototype = Sandero()\n",
    "    loganPrototype = Logan()\n",
    "    \n",
    "    print('Prototypes:')\n",
    "    print(sanderoPrototype)\n",
    "    print(loganPrototype)\n",
    "    print('')\n",
    "    \n",
    "    sanderoLife    = sanderoPrototype.clone('Life   ', 46990)\n",
    "    sanderoZen     = sanderoPrototype.clone('Zen    ', 49990)\n",
    "    sanderoIntense = sanderoPrototype.clone('Intense', 65490)\n",
    "    \n",
    "    print('Sandero Instances:')\n",
    "    print(sanderoLife)\n",
    "    print(sanderoZen)\n",
    "    print(sanderoIntense)\n",
    "    print('')\n",
    "    \n",
    "    loganLife    = loganPrototype.clone('Life   ', 50490)\n",
    "    loganZen     = loganPrototype.clone('Zen    ', 53490)\n",
    "    loganIntense = loganPrototype.clone('Intense', 68990)\n",
    "    \n",
    "    print('Logan Instances:')\n",
    "    print(loganLife)\n",
    "    print(loganZen)\n",
    "    print(loganIntense)\n",
    "    print('')\n",
    "    \n",
    "if __name__ == \"__main__\":\n",
    "    main()"
   ]
  },
  {
   "cell_type": "markdown",
   "metadata": {},
   "source": [
    "#### Mais Informações\n",
    "- https://www.geeksforgeeks.org/prototype-design-pattern/"
   ]
  }
 ],
 "metadata": {
  "kernelspec": {
   "display_name": "Python 3",
   "language": "python",
   "name": "python3"
  },
  "language_info": {
   "codemirror_mode": {
    "name": "ipython",
    "version": 3
   },
   "file_extension": ".py",
   "mimetype": "text/x-python",
   "name": "python",
   "nbconvert_exporter": "python",
   "pygments_lexer": "ipython3",
   "version": "3.5.2"
  }
 },
 "nbformat": 4,
 "nbformat_minor": 2
}
