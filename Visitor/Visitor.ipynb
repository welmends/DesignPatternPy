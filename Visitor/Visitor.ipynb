{
 "cells": [
  {
   "cell_type": "markdown",
   "metadata": {},
   "source": [
    "### Visitor - Representa uma operação a ser executada nos elementos de uma estrutura de objeto. O Visitor permite definir uma nova operação sem alterar as classes dos elementos nos quais opera.\n",
    "\n",
    "### Mais Informações:\n",
    "- https://sourcemaking.com/design_patterns/visitor\n",
    "- https://brizeno.wordpress.com/2011/11/26/mao-na-massa-visitor/"
   ]
  },
  {
   "cell_type": "code",
   "execution_count": 1,
   "metadata": {},
   "outputs": [],
   "source": [
    "import abc"
   ]
  },
  {
   "cell_type": "code",
   "execution_count": 2,
   "metadata": {},
   "outputs": [],
   "source": [
    "# Element Interface\n",
    "class Flower(metaclass=abc.ABCMeta):\n",
    "    @abc.abstractmethod\n",
    "    def accept(self, visitor):\n",
    "        pass\n",
    "    \n",
    "    def __str__(self):\n",
    "        return self.__class__.__name__\n",
    "    \n",
    "    def pollinate(self, pollinator):\n",
    "        print('>', self, 'pollinated by', pollinator)\n",
    "        \n",
    "    def eat(self, eater):\n",
    "        print('>', self, 'eaten by', eater)"
   ]
  },
  {
   "cell_type": "code",
   "execution_count": 3,
   "metadata": {},
   "outputs": [],
   "source": [
    "# Elements Implementations: Iris and Violet\n",
    "class Iris(Flower):\n",
    "    def accept(self, visitor):\n",
    "        visitor.visit(self)\n",
    "        \n",
    "class Violet(Flower):\n",
    "    def accept(self, visitor):\n",
    "        visitor.visit(self)"
   ]
  },
  {
   "cell_type": "code",
   "execution_count": 4,
   "metadata": {},
   "outputs": [],
   "source": [
    "# Visitor Interface\n",
    "class Bug(metaclass=abc.ABCMeta):\n",
    "    def __str__(self):\n",
    "        return self.__class__.__name__\n",
    "    \n",
    "    @abc.abstractmethod\n",
    "    def visit(self, flower):\n",
    "        pass"
   ]
  },
  {
   "cell_type": "code",
   "execution_count": 5,
   "metadata": {},
   "outputs": [],
   "source": [
    "# Visitors Implementations: Bee(pollinator) and Worm(eater)\n",
    "class Bee(Bug):\n",
    "    def visit(self, flower):\n",
    "        flower.pollinate(self)\n",
    "    \n",
    "class Worm(Bug):\n",
    "    def visit(self, flower):\n",
    "        flower.eat(self)"
   ]
  },
  {
   "cell_type": "code",
   "execution_count": 6,
   "metadata": {},
   "outputs": [
    {
     "name": "stdout",
     "output_type": "stream",
     "text": [
      "> Iris pollinated by Bee\n",
      "> Iris eaten by Worm\n",
      "> Violet pollinated by Bee\n",
      "> Violet eaten by Worm\n"
     ]
    }
   ],
   "source": [
    "# Instantiate Elements \n",
    "iris = Iris()\n",
    "violet = Violet()\n",
    "# Instantiate Visitors\n",
    "bee = Bee()\n",
    "worm = Worm()\n",
    "# Visiting..\n",
    "iris.accept(bee)\n",
    "iris.accept(worm)\n",
    "violet.accept(bee)\n",
    "violet.accept(worm)"
   ]
  }
 ],
 "metadata": {
  "kernelspec": {
   "display_name": "Python 3",
   "language": "python",
   "name": "python3"
  },
  "language_info": {
   "codemirror_mode": {
    "name": "ipython",
    "version": 3
   },
   "file_extension": ".py",
   "mimetype": "text/x-python",
   "name": "python",
   "nbconvert_exporter": "python",
   "pygments_lexer": "ipython3",
   "version": "3.5.2"
  }
 },
 "nbformat": 4,
 "nbformat_minor": 2
}
