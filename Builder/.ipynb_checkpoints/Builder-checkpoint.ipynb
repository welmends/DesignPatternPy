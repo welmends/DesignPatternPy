{
 "cells": [
  {
   "cell_type": "markdown",
   "metadata": {},
   "source": [
    "### Builder - Separar a construção de um objeto complexo de sua representação de modo que o mesmo processo de construção possa criar diferentes representações.\n",
    "\n",
    "### Mais informações:\n",
    "- https://www.geeksforgeeks.org/builder-design-pattern/\n",
    "- https://brizeno.wordpress.com/2011/09/25/mao-na-massa-builder/"
   ]
  },
  {
   "cell_type": "code",
   "execution_count": 1,
   "metadata": {},
   "outputs": [],
   "source": [
    "import abc"
   ]
  },
  {
   "cell_type": "code",
   "execution_count": 2,
   "metadata": {},
   "outputs": [],
   "source": [
    "class CarProduct(metaclass=abc.ABCMeta):\n",
    "    model = None\n",
    "    value = None\n",
    "    manufactureYear = None\n",
    "    \n",
    "    def __init__(self):\n",
    "        pass\n",
    "    \n",
    "    def __repr__(self):\n",
    "        return 'CarProduct\\n          Model: {}, Value: R$ {}, Year of Manufacture: {} '.format(self.model, self.value, self.manufactureYear)"
   ]
  },
  {
   "cell_type": "code",
   "execution_count": 3,
   "metadata": {},
   "outputs": [],
   "source": [
    "class CarBuilder(metaclass=abc.ABCMeta):\n",
    "    carProduct = CarProduct()\n",
    "    \n",
    "    def __init__(self):\n",
    "        pass\n",
    "    \n",
    "    def getProduct(self):\n",
    "        return self.carProduct\n",
    "    \n",
    "    @abc.abstractmethod\n",
    "    def buildModel(self):\n",
    "        pass\n",
    "    \n",
    "    @abc.abstractmethod\n",
    "    def buildValue(self):\n",
    "        pass\n",
    "    \n",
    "    @abc.abstractmethod\n",
    "    def buildManufactureYear(self):\n",
    "        pass"
   ]
  },
  {
   "cell_type": "code",
   "execution_count": 4,
   "metadata": {},
   "outputs": [],
   "source": [
    "class RenaultBuilder(CarBuilder):\n",
    "    def __init__(self):\n",
    "        super()\n",
    "    \n",
    "    def buildModel(self):\n",
    "        self.carProduct.model = \"Logan Zen\"\n",
    "        \n",
    "    def buildValue(self):\n",
    "        self.carProduct.value = 53490.00\n",
    "    \n",
    "    def buildManufactureYear(self):\n",
    "        self.carProduct.manufactureYear = 2020"
   ]
  },
  {
   "cell_type": "code",
   "execution_count": 5,
   "metadata": {},
   "outputs": [],
   "source": [
    "class FiatBuilder(CarBuilder):\n",
    "    def __init__(self):\n",
    "        super()\n",
    "    \n",
    "    def buildModel(self):\n",
    "        self.carProduct.model = \"Argo Drive\"\n",
    "        \n",
    "    def buildValue(self):\n",
    "        self.carProduct.value = 46990.00\n",
    "    \n",
    "    def buildManufactureYear(self):\n",
    "        self.carProduct.manufactureYear = 2020"
   ]
  },
  {
   "cell_type": "code",
   "execution_count": 6,
   "metadata": {},
   "outputs": [],
   "source": [
    "class CarDealershipDirector():\n",
    "    carBuilder = None\n",
    "    \n",
    "    def __init__(self, carBuilder=CarBuilder):\n",
    "        self.carBuilder = carBuilder\n",
    "        \n",
    "    def constructCar(self):\n",
    "        self.carBuilder.buildModel()\n",
    "        self.carBuilder.buildValue()\n",
    "        self.carBuilder.buildManufactureYear()\n",
    "        \n",
    "    def getCar(self):\n",
    "        return self.carBuilder.getProduct()"
   ]
  },
  {
   "cell_type": "code",
   "execution_count": 7,
   "metadata": {},
   "outputs": [
    {
     "name": "stdout",
     "output_type": "stream",
     "text": [
      "CarProduct\n",
      "          Model: Logan Zen, Value: R$ 53490.0, Year of Manufacture: 2020 \n",
      "CarProduct\n",
      "          Model: Argo Drive, Value: R$ 46990.0, Year of Manufacture: 2020 \n"
     ]
    }
   ],
   "source": [
    "carDealership = CarDealershipDirector(RenaultBuilder())\n",
    "carDealership.constructCar()\n",
    "print(carDealership.getCar())\n",
    "\n",
    "carDealership = CarDealershipDirector(FiatBuilder())\n",
    "carDealership.constructCar()\n",
    "print(carDealership.getCar())"
   ]
  }
 ],
 "metadata": {
  "kernelspec": {
   "display_name": "Python 3",
   "language": "python",
   "name": "python3"
  },
  "language_info": {
   "codemirror_mode": {
    "name": "ipython",
    "version": 3
   },
   "file_extension": ".py",
   "mimetype": "text/x-python",
   "name": "python",
   "nbconvert_exporter": "python",
   "pygments_lexer": "ipython3",
   "version": "3.5.2"
  }
 },
 "nbformat": 4,
 "nbformat_minor": 2
}
