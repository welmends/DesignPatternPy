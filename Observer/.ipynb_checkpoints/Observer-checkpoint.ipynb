{
 "cells": [
  {
   "cell_type": "markdown",
   "metadata": {},
   "source": [
    "### Observer - Defina uma dependência de um para muitos entre objetos para que, quando um objeto mudar de estado, todos os seus dependentes sejam notificados e atualizados automaticamente.\n",
    "\n",
    "### Mais Informações:\n",
    "- https://sourcemaking.com/design_patterns/observer\n",
    "- https://brizeno.wordpress.com/2011/10/17/mao-na-massa-observer/"
   ]
  },
  {
   "cell_type": "code",
   "execution_count": 1,
   "metadata": {},
   "outputs": [],
   "source": [
    "import abc"
   ]
  },
  {
   "cell_type": "code",
   "execution_count": 2,
   "metadata": {},
   "outputs": [],
   "source": [
    "# Data Class\n",
    "class Data:\n",
    "    def __init__(self, A=None, B=None, C=None):\n",
    "        if A is None: \n",
    "            self._A = 0\n",
    "        else:\n",
    "            self._A = A%10\n",
    "            \n",
    "        if B is None: \n",
    "            self._B = 0\n",
    "        else:\n",
    "            self._B = B%10\n",
    "            \n",
    "        if C is None: \n",
    "            self._C = 0\n",
    "        else:\n",
    "            self._C = C%10\n",
    "    \n",
    "    def getA(self):\n",
    "        return self._A\n",
    "    \n",
    "    def getB(self):\n",
    "        return self._B\n",
    "    \n",
    "    def getC(self):\n",
    "        return self._C"
   ]
  },
  {
   "cell_type": "code",
   "execution_count": 3,
   "metadata": {},
   "outputs": [],
   "source": [
    "# Data Subject Class (Attach, Detach and Notify Observers)\n",
    "class DataSubject:\n",
    "    def __init__(self):\n",
    "        self._observers = set()\n",
    "        self._data = Data()\n",
    "\n",
    "    def attach(self, observer):\n",
    "        observer._subject = self\n",
    "        self._observers.add(observer)\n",
    "\n",
    "    def detach(self, observer):\n",
    "        observer._subject = None\n",
    "        self._observers.discard(observer)\n",
    "\n",
    "    def _notify(self):\n",
    "        for observer in self._observers:\n",
    "            observer.update(self._data)\n",
    "\n",
    "    def set_state(self, data):\n",
    "        self._data = data\n",
    "        self._notify()\n",
    "    \n",
    "    def get_state(self, data):\n",
    "        return self._data"
   ]
  },
  {
   "cell_type": "code",
   "execution_count": 4,
   "metadata": {},
   "outputs": [],
   "source": [
    "# Data Observer Interface\n",
    "class DataObserver(metaclass=abc.ABCMeta):\n",
    "    @abc.abstractmethod\n",
    "    def update(self, data):\n",
    "        pass"
   ]
  },
  {
   "cell_type": "code",
   "execution_count": 5,
   "metadata": {},
   "outputs": [],
   "source": [
    "# Data Table Observer (Print Data in Table Configuration)\n",
    "class DataTableObserver(DataObserver):\n",
    "    def update(self, data):\n",
    "        print('')\n",
    "        print('|--------------------------------|')\n",
    "        print('|           DATA TABLE           |')\n",
    "        print('|--------------------------------|')\n",
    "        print('|  ValueA  |  ValueB  |  ValueC  |')\n",
    "        print('|--------------------------------|')\n",
    "        print('|     {}    |     {}    |     {}    |'.format(data.getA(),data.getB(),data.getC()))\n",
    "        print('|--------------------------------|')\n",
    "        print('')\n",
    "        \n",
    "\n",
    "# Data Bar Observer (Print Data in Bar Configuration)\n",
    "class DataBarObserver(DataObserver):\n",
    "    def update(self, data):\n",
    "        print('')\n",
    "        print('|--------------------------------|')\n",
    "        print('|            DATA BAR            |')\n",
    "        print('|--------------------------------|')\n",
    "        print('| ValueA ::: {}{}|'.format(data.getA()*' *',(10-data.getA())*'  '))\n",
    "        print('|--------------------------------|')\n",
    "        print('| ValueB ::: {}{}|'.format(data.getB()*' *',(10-data.getB())*'  '))\n",
    "        print('|--------------------------------|')\n",
    "        print('| ValueC ::: {}{}|'.format(data.getC()*' *',(10-data.getC())*'  '))\n",
    "        print('|--------------------------------|')\n",
    "        print('')"
   ]
  },
  {
   "cell_type": "code",
   "execution_count": 6,
   "metadata": {},
   "outputs": [],
   "source": [
    "# Instantiate Data Subject\n",
    "data_subject = DataSubject()\n",
    "\n",
    "# Instantiate Concrete Observers\n",
    "data_table_observer = DataTableObserver()\n",
    "data_bar_observer = DataBarObserver()\n",
    "\n",
    "# Attach Concrete Observers\n",
    "data_subject.attach(data_table_observer)\n",
    "data_subject.attach(data_bar_observer)"
   ]
  },
  {
   "cell_type": "code",
   "execution_count": 7,
   "metadata": {},
   "outputs": [
    {
     "name": "stdout",
     "output_type": "stream",
     "text": [
      "\n",
      "|--------------------------------|\n",
      "|            DATA BAR            |\n",
      "|--------------------------------|\n",
      "| ValueA :::  *                  |\n",
      "|--------------------------------|\n",
      "| ValueB :::  * *                |\n",
      "|--------------------------------|\n",
      "| ValueC :::  * * *              |\n",
      "|--------------------------------|\n",
      "\n",
      "\n",
      "|--------------------------------|\n",
      "|           DATA TABLE           |\n",
      "|--------------------------------|\n",
      "|  ValueA  |  ValueB  |  ValueC  |\n",
      "|--------------------------------|\n",
      "|     1    |     2    |     3    |\n",
      "|--------------------------------|\n",
      "\n"
     ]
    }
   ],
   "source": [
    "# Set some data (to be notified)\n",
    "data_subject.set_state(Data(1,2,3))"
   ]
  },
  {
   "cell_type": "code",
   "execution_count": 8,
   "metadata": {},
   "outputs": [
    {
     "name": "stdout",
     "output_type": "stream",
     "text": [
      "\n",
      "|--------------------------------|\n",
      "|            DATA BAR            |\n",
      "|--------------------------------|\n",
      "| ValueA :::  * * * * * * * * *  |\n",
      "|--------------------------------|\n",
      "| ValueB :::  * * *              |\n",
      "|--------------------------------|\n",
      "| ValueC :::  * * * * * * *      |\n",
      "|--------------------------------|\n",
      "\n",
      "\n",
      "|--------------------------------|\n",
      "|           DATA TABLE           |\n",
      "|--------------------------------|\n",
      "|  ValueA  |  ValueB  |  ValueC  |\n",
      "|--------------------------------|\n",
      "|     9    |     3    |     7    |\n",
      "|--------------------------------|\n",
      "\n"
     ]
    }
   ],
   "source": [
    "# Set some data (to be notified)\n",
    "data_subject.set_state(Data(9,3,7))"
   ]
  }
 ],
 "metadata": {
  "kernelspec": {
   "display_name": "Python 3",
   "language": "python",
   "name": "python3"
  },
  "language_info": {
   "codemirror_mode": {
    "name": "ipython",
    "version": 3
   },
   "file_extension": ".py",
   "mimetype": "text/x-python",
   "name": "python",
   "nbconvert_exporter": "python",
   "pygments_lexer": "ipython3",
   "version": "3.7.5"
  }
 },
 "nbformat": 4,
 "nbformat_minor": 2
}
