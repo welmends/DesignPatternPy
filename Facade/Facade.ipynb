{
 "cells": [
  {
   "cell_type": "markdown",
   "metadata": {},
   "source": [
    "### Facade - Fornecer uma interface unificada para um conjunto de interfaces em um subsistema. Facade define uma interface de nível mais alto que torna o subsistema mais fácil de ser usado.\n",
    "\n",
    "### Mais Informações:\n",
    "- https://sourcemaking.com/design_patterns/facade\n",
    "- https://brizeno.wordpress.com/2011/11/17/mao-na-massa-facade/"
   ]
  },
  {
   "cell_type": "code",
   "execution_count": 1,
   "metadata": {},
   "outputs": [],
   "source": [
    "# Facade class\n",
    "class FacadeSystem:\n",
    "    def __init__(self):\n",
    "        self._audiosystem = AudioSystem()\n",
    "        self._videosystem = VideoSystem()\n",
    "\n",
    "    def setup(self):\n",
    "        self._audiosystem.setupChannels()\n",
    "        self._audiosystem.setupFrequency()\n",
    "        self._videosystem.setupColors()\n",
    "        self._videosystem.setupResolution()\n",
    "        print('> Sistema configurado com suscesso!', end='\\n\\n')\n",
    "        \n",
    "    def playAudio(self, audioFile):\n",
    "        self._audiosystem.playAudioFile(audioFile)\n",
    "        \n",
    "    def renderImage(self, imageFile):\n",
    "        self._videosystem.renderImageFile(imageFile)"
   ]
  },
  {
   "cell_type": "code",
   "execution_count": 2,
   "metadata": {},
   "outputs": [],
   "source": [
    "# Sub-systems (Audio and Video)\n",
    "class AudioSystem:\n",
    "    def setupChannels(self):\n",
    "        print('> Canais Configurados!')\n",
    "\n",
    "    def setupFrequency(self):\n",
    "        print('> Frequência Configurada!')\n",
    "        \n",
    "    def playAudioFile(self, audioFile):\n",
    "        print('Reproduzindo {}..'.format(audioFile))\n",
    "        \n",
    "class VideoSystem:\n",
    "    def setupColors(self):\n",
    "        print('> Cores Configuradas!')\n",
    "\n",
    "    def setupResolution(self):\n",
    "        print('> Resolução Configurada!')\n",
    "        \n",
    "    def renderImageFile(self, imageFile):\n",
    "        print('Rederizando {}..'.format(imageFile))"
   ]
  },
  {
   "cell_type": "code",
   "execution_count": 3,
   "metadata": {},
   "outputs": [
    {
     "name": "stdout",
     "output_type": "stream",
     "text": [
      "> Canais Configurados!\n",
      "> Frequência Configurada!\n",
      "> Cores Configuradas!\n",
      "> Resolução Configurada!\n",
      "> Sistema configurado com suscesso!\n",
      "\n",
      "Reproduzindo music.mp3..\n",
      "Rederizando image.png..\n"
     ]
    }
   ],
   "source": [
    "# Create a FacadeSystem Object and run its methods\n",
    "system = FacadeSystem()\n",
    "system.setup()\n",
    "system.playAudio('music.mp3')\n",
    "system.renderImage('image.png')"
   ]
  }
 ],
 "metadata": {
  "kernelspec": {
   "display_name": "Python 3",
   "language": "python",
   "name": "python3"
  },
  "language_info": {
   "codemirror_mode": {
    "name": "ipython",
    "version": 3
   },
   "file_extension": ".py",
   "mimetype": "text/x-python",
   "name": "python",
   "nbconvert_exporter": "python",
   "pygments_lexer": "ipython3",
   "version": "3.5.2"
  }
 },
 "nbformat": 4,
 "nbformat_minor": 2
}
