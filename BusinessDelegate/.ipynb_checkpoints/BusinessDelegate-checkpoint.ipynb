{
 "cells": [
  {
   "cell_type": "markdown",
   "metadata": {},
   "source": [
    "### Business Delegate - O Business Delegate Pattern atua como uma abstração de negócios do lado do cliente, fornecendo uma abstração e, portanto, ocultando a implementação dos serviços de negócios.\n",
    "\n",
    "### Mais Informações:\n",
    "- https://www.geeksforgeeks.org/business-delegate-pattern/\n",
    "- https://www.tutorialspoint.com/design_pattern/business_delegate_pattern.htm"
   ]
  },
  {
   "cell_type": "code",
   "execution_count": null,
   "metadata": {},
   "outputs": [],
   "source": []
  }
 ],
 "metadata": {
  "kernelspec": {
   "display_name": "Python 3",
   "language": "python",
   "name": "python3"
  },
  "language_info": {
   "codemirror_mode": {
    "name": "ipython",
    "version": 3
   },
   "file_extension": ".py",
   "mimetype": "text/x-python",
   "name": "python",
   "nbconvert_exporter": "python",
   "pygments_lexer": "ipython3",
   "version": "3.5.2"
  }
 },
 "nbformat": 4,
 "nbformat_minor": 2
}
