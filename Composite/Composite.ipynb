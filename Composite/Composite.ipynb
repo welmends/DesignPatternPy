{
 "cells": [
  {
   "cell_type": "markdown",
   "metadata": {},
   "source": [
    "### Composite - Compor objetos em estruturas de árvore para representar hierarquia partes-todo. Composite permite aos clientes tratarem de maneira uniforme objetos individuais e composições de objetos.\n",
    "\n",
    "### Mais Informações:\n",
    "- https://sourcemaking.com/design_patterns/composite\n",
    "- https://brizeno.wordpress.com/2011/09/12/mao-na-massa-composite/"
   ]
  },
  {
   "cell_type": "code",
   "execution_count": 1,
   "metadata": {},
   "outputs": [],
   "source": [
    "import abc"
   ]
  },
  {
   "cell_type": "code",
   "execution_count": 2,
   "metadata": {},
   "outputs": [],
   "source": [
    "# Component\n",
    "class File(metaclass=abc.ABCMeta):\n",
    "    def __init__(self):\n",
    "        self._name = 'Generic File'\n",
    "        \n",
    "    def __repr__(self):\n",
    "        return self._name\n",
    "    \n",
    "    def operation(self, level=0):\n",
    "        print('{}|{}'.format('  '*level, self._name))"
   ]
  },
  {
   "cell_type": "code",
   "execution_count": 3,
   "metadata": {},
   "outputs": [],
   "source": [
    "# Composite (Node)\n",
    "class Folder(File):\n",
    "    def __init__(self, name):\n",
    "        self._name = name+'/'\n",
    "        self._children = []\n",
    "        \n",
    "    def operation(self, level=0):\n",
    "        print('{}|{}'.format('  '*level, self._name))\n",
    "        for i in range(len(self._children)):\n",
    "            self._children[i].operation(level+1)\n",
    "            \n",
    "    def add(self, component):\n",
    "        self._children.append(component)\n",
    "\n",
    "    def remove(self, component):\n",
    "        self._children.remove(component)"
   ]
  },
  {
   "cell_type": "code",
   "execution_count": 4,
   "metadata": {},
   "outputs": [],
   "source": [
    "# Leaf\n",
    "class FilePNG(File):\n",
    "    def __init__(self, name):\n",
    "        self._name = name+'.png'\n",
    "        \n",
    "class FileMP4(File):\n",
    "    def __init__(self, name):\n",
    "        self._name = name+'.mp4'\n",
    "        \n",
    "class FileDocx(File):\n",
    "    def __init__(self, name):\n",
    "        self._name = name+'.docx'"
   ]
  },
  {
   "cell_type": "code",
   "execution_count": 5,
   "metadata": {},
   "outputs": [
    {
     "name": "stdout",
     "output_type": "stream",
     "text": [
      "|Documents/\n",
      "  |homework.docx\n",
      "  |Pictures/\n",
      "    |house.png\n",
      "    |dog.png\n",
      "  |Videos/\n",
      "    |MaryBirthday.mp4\n",
      "    |Trip/\n",
      "      |tripWithFriends1.mp4\n",
      "      |tripWithFriends2.mp4\n"
     ]
    }
   ],
   "source": [
    "# Folders\n",
    "folderDocs = Folder('Documents')\n",
    "folderPics = Folder('Pictures')\n",
    "folderVids = Folder('Videos')\n",
    "folderTrip = Folder('Trip')\n",
    "\n",
    "# Files\n",
    "docx1 = FileDocx('homework')\n",
    "image1 = FilePNG('house')\n",
    "image2 = FilePNG('dog')\n",
    "video1 = FileMP4('MaryBirthday')\n",
    "video2 = FileMP4('tripWithFriends1')\n",
    "video3 = FileMP4('tripWithFriends2')\n",
    "\n",
    "# Add files to Folder Docs\n",
    "folderDocs.add(docx1)\n",
    "folderDocs.add(folderPics)\n",
    "folderDocs.add(folderVids)\n",
    "\n",
    "# Add files to Folder Pics\n",
    "folderPics.add(image1)\n",
    "folderPics.add(image2)\n",
    "\n",
    "# Add files to Folder Vids\n",
    "folderVids.add(video1)\n",
    "folderVids.add(folderTrip)\n",
    "\n",
    "# Add files to Folder Trip\n",
    "folderTrip.add(video2)\n",
    "folderTrip.add(video3)\n",
    "\n",
    "# Run operation of root node\n",
    "folderDocs.operation()"
   ]
  }
 ],
 "metadata": {
  "kernelspec": {
   "display_name": "Python 3",
   "language": "python",
   "name": "python3"
  },
  "language_info": {
   "codemirror_mode": {
    "name": "ipython",
    "version": 3
   },
   "file_extension": ".py",
   "mimetype": "text/x-python",
   "name": "python",
   "nbconvert_exporter": "python",
   "pygments_lexer": "ipython3",
   "version": "3.5.2"
  }
 },
 "nbformat": 4,
 "nbformat_minor": 2
}
