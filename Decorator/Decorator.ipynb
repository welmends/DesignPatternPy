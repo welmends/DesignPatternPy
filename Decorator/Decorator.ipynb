{
 "cells": [
  {
   "cell_type": "markdown",
   "metadata": {},
   "source": [
    "### Decorator - Agregar responsabilidades adicionais a um objeto dinamicamente. Os decoradores fornecem uma alternativa flexível à subclasse para ampliar a funcionalidade.\n",
    "\n",
    "### Mais Informações:\n",
    "- https://sourcemaking.com/design_patterns/decorator\n",
    "- https://brizeno.wordpress.com/2011/08/31/decorator/"
   ]
  },
  {
   "cell_type": "code",
   "execution_count": 1,
   "metadata": {},
   "outputs": [],
   "source": [
    "import abc"
   ]
  },
  {
   "cell_type": "code",
   "execution_count": 2,
   "metadata": {},
   "outputs": [],
   "source": [
    "# Cocktail Component\n",
    "class Cocktail(metaclass=abc.ABCMeta):        \n",
    "    @abc.abstractmethod\n",
    "    def operation(self):\n",
    "        pass"
   ]
  },
  {
   "cell_type": "code",
   "execution_count": 3,
   "metadata": {},
   "outputs": [],
   "source": [
    "# Cocktail Decorator\n",
    "class CocktailDecorator(Cocktail, metaclass=abc.ABCMeta):\n",
    "    def __init__(self, cocktail):\n",
    "        self._cocktail = cocktail\n",
    "        \n",
    "    @abc.abstractmethod\n",
    "    def operation(self):\n",
    "        pass"
   ]
  },
  {
   "cell_type": "code",
   "execution_count": 4,
   "metadata": {},
   "outputs": [],
   "source": [
    "# Some Cocktails\n",
    "class Rum(Cocktail):\n",
    "    def operation(self):\n",
    "        print('Rum ', end='')\n",
    "        \n",
    "class Tequila(Cocktail):\n",
    "    def operation(self):\n",
    "        print('Tequila ', end='')\n",
    "        \n",
    "class Vodka(Cocktail):\n",
    "    def operation(self):\n",
    "        print('Vodka ', end='')"
   ]
  },
  {
   "cell_type": "code",
   "execution_count": 5,
   "metadata": {},
   "outputs": [],
   "source": [
    "# Some Additionals (Decorators)\n",
    "class Lemon(CocktailDecorator):\n",
    "    def operation(self):\n",
    "        self._cocktail.operation()\n",
    "        print('+ Lemon ', end='')\n",
    "        \n",
    "class Soda(CocktailDecorator):\n",
    "    def operation(self):\n",
    "        self._cocktail.operation()\n",
    "        print('+ Soda ', end='')\n",
    "        \n",
    "class Salt(CocktailDecorator):\n",
    "    def operation(self):\n",
    "        self._cocktail.operation()\n",
    "        print('+ Salt ', end='')\n",
    "        \n",
    "class Juice(CocktailDecorator):\n",
    "    def operation(self):\n",
    "        self._cocktail.operation()\n",
    "        print('+ Juice ', end='')\n",
    "\n",
    "class Ice(CocktailDecorator):\n",
    "    def operation(self):\n",
    "        self._cocktail.operation()\n",
    "        print('+ Ice ', end='')"
   ]
  },
  {
   "cell_type": "code",
   "execution_count": 6,
   "metadata": {},
   "outputs": [
    {
     "name": "stdout",
     "output_type": "stream",
     "text": [
      "Cocktail 1: Rum + Lemon + Ice "
     ]
    }
   ],
   "source": [
    "cocktail1 = Rum()\n",
    "cocktail1 = Lemon(cocktail1)\n",
    "cocktail1 = Ice(cocktail1)\n",
    "\n",
    "print('Cocktail 1: ', end='')\n",
    "cocktail1.operation()"
   ]
  },
  {
   "cell_type": "code",
   "execution_count": 7,
   "metadata": {},
   "outputs": [
    {
     "name": "stdout",
     "output_type": "stream",
     "text": [
      "Cocktail 2: Tequila + Salt + Juice "
     ]
    }
   ],
   "source": [
    "cocktail2 = Tequila()\n",
    "cocktail2 = Salt(cocktail2)\n",
    "cocktail2 = Juice(cocktail2)\n",
    "\n",
    "print('Cocktail 2: ', end='')\n",
    "cocktail2.operation()"
   ]
  },
  {
   "cell_type": "code",
   "execution_count": 8,
   "metadata": {},
   "outputs": [
    {
     "name": "stdout",
     "output_type": "stream",
     "text": [
      "Cocktail 3: Vodka + Soda + Ice "
     ]
    }
   ],
   "source": [
    "cocktail3 = Vodka()\n",
    "cocktail3 = Soda(cocktail3)\n",
    "cocktail3 = Ice(cocktail3)\n",
    "\n",
    "print('Cocktail 3: ', end='')\n",
    "cocktail3.operation()"
   ]
  }
 ],
 "metadata": {
  "kernelspec": {
   "display_name": "Python 3",
   "language": "python",
   "name": "python3"
  },
  "language_info": {
   "codemirror_mode": {
    "name": "ipython",
    "version": 3
   },
   "file_extension": ".py",
   "mimetype": "text/x-python",
   "name": "python",
   "nbconvert_exporter": "python",
   "pygments_lexer": "ipython3",
   "version": "3.5.2"
  }
 },
 "nbformat": 4,
 "nbformat_minor": 2
}
