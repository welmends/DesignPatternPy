{
 "cells": [
  {
   "cell_type": "markdown",
   "metadata": {},
   "source": [
    "### Strategy - Defina uma família de algoritmos, encapsule cada um e torne-os intercambiáveis. A estratégia permite que o algoritmo varie independentemente dos clientes que o utilizam.\n",
    "\n",
    "### Mais Informações:\n",
    "- https://sourcemaking.com/design_patterns/strategy\n",
    "- https://brizeno.wordpress.com/2011/08/31/strategy/"
   ]
  },
  {
   "cell_type": "code",
   "execution_count": 1,
   "metadata": {},
   "outputs": [],
   "source": [
    "import abc"
   ]
  },
  {
   "cell_type": "code",
   "execution_count": 2,
   "metadata": {},
   "outputs": [],
   "source": [
    "# Context to use the strategy\n",
    "class Classifier:\n",
    "    def __init__(self, strategy=None):\n",
    "        self._strategy = strategy\n",
    "\n",
    "    def set_strategy(self, strategy):\n",
    "        self._strategy = strategy\n",
    "        \n",
    "    def apply(self):\n",
    "        if self._strategy==None:\n",
    "            print('There is no strategy!')\n",
    "        else:\n",
    "            self._strategy.algorithm()"
   ]
  },
  {
   "cell_type": "code",
   "execution_count": 3,
   "metadata": {},
   "outputs": [],
   "source": [
    "# Strategy Interface - Common to all supported algorithms\n",
    "class Strategy(metaclass=abc.ABCMeta):\n",
    "    @abc.abstractmethod\n",
    "    def algorithm(self):\n",
    "        pass"
   ]
  },
  {
   "cell_type": "code",
   "execution_count": 4,
   "metadata": {},
   "outputs": [],
   "source": [
    "# Strategy 01 - MLP\n",
    "class MLP_Strategy(Strategy):\n",
    "    def algorithm(self):\n",
    "        print('> Running MLP Algorithm..')\n",
    "\n",
    "# Strategy 02 - SVM\n",
    "class SVM_Strategy(Strategy):\n",
    "    def algorithm(self):\n",
    "        print('> Running SVM Algorithm..')"
   ]
  },
  {
   "cell_type": "code",
   "execution_count": 5,
   "metadata": {},
   "outputs": [
    {
     "name": "stdout",
     "output_type": "stream",
     "text": [
      "> Running MLP Algorithm..\n",
      "> Running SVM Algorithm..\n",
      "There is no strategy!\n"
     ]
    }
   ],
   "source": [
    "# Instantiate Strategies\n",
    "strategy_mlp = MLP_Strategy()\n",
    "strategy_svm = SVM_Strategy()\n",
    "\n",
    "# Instantiate classifier context\n",
    "classifier = Classifier(strategy_mlp)\n",
    "classifier.apply()\n",
    "\n",
    "# Set other strategy\n",
    "classifier.set_strategy(strategy_svm)\n",
    "classifier.apply()\n",
    "\n",
    "# Remove current strategy\n",
    "classifier.set_strategy(None)\n",
    "classifier.apply()"
   ]
  }
 ],
 "metadata": {
  "kernelspec": {
   "display_name": "Python 3",
   "language": "python",
   "name": "python3"
  },
  "language_info": {
   "codemirror_mode": {
    "name": "ipython",
    "version": 3
   },
   "file_extension": ".py",
   "mimetype": "text/x-python",
   "name": "python",
   "nbconvert_exporter": "python",
   "pygments_lexer": "ipython3",
   "version": "3.5.2"
  }
 },
 "nbformat": 4,
 "nbformat_minor": 2
}
