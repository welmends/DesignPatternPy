{
 "cells": [
  {
   "cell_type": "markdown",
   "metadata": {},
   "source": [
    "### Dependency Injection - É uma técnica que permite definir as dependências entre os objetos, utilizado quando é necessário manter baixo o nível de acoplamento entre diferentes módulos de um sistema. \n",
    "\n",
    "### OBS.: Dependency Injection não é um padrão presente no GoF (Gang of Four).\n",
    "\n",
    "### Mais Informações:\n",
    "- https://medium.com/@shivama205/dependency-injection-python-cb2b5f336dce"
   ]
  },
  {
   "cell_type": "code",
   "execution_count": 1,
   "metadata": {},
   "outputs": [],
   "source": [
    "# Install: pip3 install dependency-injector\n",
    "from dependency_injector import providers, containers"
   ]
  },
  {
   "cell_type": "code",
   "execution_count": 2,
   "metadata": {},
   "outputs": [],
   "source": [
    "# Email Reader (Dependency of class EmailReader)\n",
    "class EmailClient(object):\n",
    "    def __init__(self, config):\n",
    "        self._config = config\n",
    "        self.connect()\n",
    "        \n",
    "    def connect(self):\n",
    "        print('> Connecting..')\n",
    "        print('-- credentials:  ')\n",
    "        print('-- -- domain_name   : {}'.format(self._config.get('domain_name')))\n",
    "        print('-- -- email_address : {}'.format(self._config.get('email_address')))\n",
    "        print('-- -- password      : {}'.format(self._config.get('password')))\n",
    "        print('-- -- mailbox       : {}'.format(self._config.get('mailbox')))\n",
    "        print('> Connected!')\n",
    "        print('')"
   ]
  },
  {
   "cell_type": "code",
   "execution_count": 3,
   "metadata": {},
   "outputs": [],
   "source": [
    "# Email Reader (Dependent on class EmailClient)\n",
    "class EmailReader(object):\n",
    "    def __init__(self, client):\n",
    "        try:\n",
    "            self._client = client\n",
    "        except Exception as e:\n",
    "            raise e\n",
    "            \n",
    "    def read(self):\n",
    "        print('> Reading Message..')"
   ]
  },
  {
   "cell_type": "code",
   "execution_count": 4,
   "metadata": {},
   "outputs": [],
   "source": [
    "# Container with a configuration Provider that provides all the configuration objects\n",
    "class Configs(containers.DeclarativeContainer):\n",
    "    config = providers.Configuration('config')\n",
    "\n",
    "# Container defining all kinds of clients\n",
    "class Clients(containers.DeclarativeContainer):\n",
    "    email_client = providers.Singleton(EmailClient, Configs.config)\n",
    "\n",
    "# Container defining EmailReader class dependency on EmailClient class\n",
    "class Readers(containers.DeclarativeContainer):\n",
    "    email_reader = providers.Factory(EmailReader, client=Clients.email_client)"
   ]
  },
  {
   "cell_type": "code",
   "execution_count": 5,
   "metadata": {},
   "outputs": [
    {
     "name": "stdout",
     "output_type": "stream",
     "text": [
      "> Connecting..\n",
      "-- credentials:  \n",
      "-- -- domain_name   : imap.gmail.com\n",
      "-- -- email_address : wellmend0@gmail.com\n",
      "-- -- password      : abc123\n",
      "-- -- mailbox       : Inbox\n",
      "> Connected!\n",
      "\n",
      "> Reading Message..\n",
      "None\n",
      "> Reading Message..\n",
      "None\n"
     ]
    }
   ],
   "source": [
    "# Defining all configuration for the connection of EmailClient\n",
    "Configs.config.override({\n",
    "    \"domain_name\"   : \"imap.gmail.com\",\n",
    "    \"email_address\" : \"wellmend0@gmail.com\",\n",
    "    \"password\"      : \"abc123\",\n",
    "    \"mailbox\"       : \"Inbox\"\n",
    "})\n",
    "\n",
    "# Read a message with the EmailReader provider instance\n",
    "print(Readers.email_reader().read()) # Message 01\n",
    "print(Readers.email_reader().read()) # Message 02"
   ]
  }
 ],
 "metadata": {
  "kernelspec": {
   "display_name": "Python 3",
   "language": "python",
   "name": "python3"
  },
  "language_info": {
   "codemirror_mode": {
    "name": "ipython",
    "version": 3
   },
   "file_extension": ".py",
   "mimetype": "text/x-python",
   "name": "python",
   "nbconvert_exporter": "python",
   "pygments_lexer": "ipython3",
   "version": "3.7.5"
  }
 },
 "nbformat": 4,
 "nbformat_minor": 2
}
